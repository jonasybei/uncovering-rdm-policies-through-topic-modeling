{
 "cells": [
  {
   "cell_type": "markdown",
   "id": "933e0744f3257192",
   "metadata": {},
   "source": [
    "# Importing libraries"
   ]
  },
  {
   "cell_type": "code",
   "id": "11650cb1cd1c7d30",
   "metadata": {
    "ExecuteTime": {
     "end_time": "2025-02-28T08:23:31.094041Z",
     "start_time": "2025-02-28T08:23:23.387992Z"
    }
   },
   "source": [
    "import os\n",
    "import pickle\n",
    "import sys\n",
    "\n",
    "import matplotlib.pyplot as plt\n",
    "import numpy as np\n",
    "import pandas as pd\n",
    "import torch\n",
    "from bertopic import BERTopic\n",
    "from bertopic.representation import TextGeneration\n",
    "from git_root import git_root\n",
    "from hdbscan import HDBSCAN\n",
    "from nltk.corpus import stopwords\n",
    "from rdflib import Graph, Literal, RDF, Namespace\n",
    "from rdflib.namespace import XSD\n",
    "from sentence_transformers import SentenceTransformer\n",
    "from sklearn.metrics.pairwise import cosine_distances\n",
    "from transformers import AutoModelForCausalLM, AutoTokenizer, pipeline\n",
    "from transformers import BitsAndBytesConfig\n",
    "from umap import UMAP\n",
    "\n",
    "os.environ[\"PYTORCH_CUDA_ALLOC_CONF\"] = \"expandable_segments:True\"\n",
    "my_git_root = git_root()\n",
    "sys.path.append(my_git_root)\n",
    "from src import *"
   ],
   "outputs": [],
   "execution_count": 1
  },
  {
   "cell_type": "markdown",
   "id": "a7a8f0b5d107269b",
   "metadata": {},
   "source": [
    "# Loading the data"
   ]
  },
  {
   "cell_type": "code",
   "id": "7e1947fc5af8d0e7",
   "metadata": {
    "ExecuteTime": {
     "end_time": "2025-02-28T08:23:31.114484Z",
     "start_time": "2025-02-28T08:23:31.096765Z"
    }
   },
   "source": [
    "df_documents_path = f'{my_git_root}/data/output/documents_chunked_structured.csv'\n",
    "df_documents = pd.read_csv(df_documents_path)"
   ],
   "outputs": [],
   "execution_count": 2
  },
  {
   "cell_type": "code",
   "id": "7576ecfb628c7de7",
   "metadata": {
    "ExecuteTime": {
     "end_time": "2025-02-28T08:23:31.189276Z",
     "start_time": "2025-02-28T08:23:31.183507Z"
    }
   },
   "source": [
    "df_documents"
   ],
   "outputs": [
    {
     "data": {
      "text/plain": [
       "                       name  \\\n",
       "0       aalto-university.md   \n",
       "1       aalto-university.md   \n",
       "2       aalto-university.md   \n",
       "3       aalto-university.md   \n",
       "4       aalto-university.md   \n",
       "...                     ...   \n",
       "3481  wrexham-university.md   \n",
       "3482  wrexham-university.md   \n",
       "3483  wrexham-university.md   \n",
       "3484  wrexham-university.md   \n",
       "3485  wrexham-university.md   \n",
       "\n",
       "                                                   text  num_tokens  \n",
       "0                                      Aalto University           3  \n",
       "1      Aalto University Research Data Management Policy           7  \n",
       "2     The research data management policy aims to ma...          89  \n",
       "3     The data management policy shall be implemente...         104  \n",
       "4     Ownership of copyright protected research data...          77  \n",
       "...                                                 ...         ...  \n",
       "3481  FAIR Data\\n\\nWhere it is lawful to do so, the ...          96  \n",
       "3482  Prifysgol Wrecsam Wrexham University\\n\\nPublic...          80  \n",
       "3483  Reporting a Data Incident/Breach\\n\\nThe UK GDP...         125  \n",
       "3484  Other Polices, Procedures, Legislation\\n\\nThis...          51  \n",
       "3485  Legislation\\n\\nData Protection Act 2018 UK GDP...          13  \n",
       "\n",
       "[3486 rows x 3 columns]"
      ],
      "text/html": [
       "<div>\n",
       "<style scoped>\n",
       "    .dataframe tbody tr th:only-of-type {\n",
       "        vertical-align: middle;\n",
       "    }\n",
       "\n",
       "    .dataframe tbody tr th {\n",
       "        vertical-align: top;\n",
       "    }\n",
       "\n",
       "    .dataframe thead th {\n",
       "        text-align: right;\n",
       "    }\n",
       "</style>\n",
       "<table border=\"1\" class=\"dataframe\">\n",
       "  <thead>\n",
       "    <tr style=\"text-align: right;\">\n",
       "      <th></th>\n",
       "      <th>name</th>\n",
       "      <th>text</th>\n",
       "      <th>num_tokens</th>\n",
       "    </tr>\n",
       "  </thead>\n",
       "  <tbody>\n",
       "    <tr>\n",
       "      <th>0</th>\n",
       "      <td>aalto-university.md</td>\n",
       "      <td>Aalto University</td>\n",
       "      <td>3</td>\n",
       "    </tr>\n",
       "    <tr>\n",
       "      <th>1</th>\n",
       "      <td>aalto-university.md</td>\n",
       "      <td>Aalto University Research Data Management Policy</td>\n",
       "      <td>7</td>\n",
       "    </tr>\n",
       "    <tr>\n",
       "      <th>2</th>\n",
       "      <td>aalto-university.md</td>\n",
       "      <td>The research data management policy aims to ma...</td>\n",
       "      <td>89</td>\n",
       "    </tr>\n",
       "    <tr>\n",
       "      <th>3</th>\n",
       "      <td>aalto-university.md</td>\n",
       "      <td>The data management policy shall be implemente...</td>\n",
       "      <td>104</td>\n",
       "    </tr>\n",
       "    <tr>\n",
       "      <th>4</th>\n",
       "      <td>aalto-university.md</td>\n",
       "      <td>Ownership of copyright protected research data...</td>\n",
       "      <td>77</td>\n",
       "    </tr>\n",
       "    <tr>\n",
       "      <th>...</th>\n",
       "      <td>...</td>\n",
       "      <td>...</td>\n",
       "      <td>...</td>\n",
       "    </tr>\n",
       "    <tr>\n",
       "      <th>3481</th>\n",
       "      <td>wrexham-university.md</td>\n",
       "      <td>FAIR Data\\n\\nWhere it is lawful to do so, the ...</td>\n",
       "      <td>96</td>\n",
       "    </tr>\n",
       "    <tr>\n",
       "      <th>3482</th>\n",
       "      <td>wrexham-university.md</td>\n",
       "      <td>Prifysgol Wrecsam Wrexham University\\n\\nPublic...</td>\n",
       "      <td>80</td>\n",
       "    </tr>\n",
       "    <tr>\n",
       "      <th>3483</th>\n",
       "      <td>wrexham-university.md</td>\n",
       "      <td>Reporting a Data Incident/Breach\\n\\nThe UK GDP...</td>\n",
       "      <td>125</td>\n",
       "    </tr>\n",
       "    <tr>\n",
       "      <th>3484</th>\n",
       "      <td>wrexham-university.md</td>\n",
       "      <td>Other Polices, Procedures, Legislation\\n\\nThis...</td>\n",
       "      <td>51</td>\n",
       "    </tr>\n",
       "    <tr>\n",
       "      <th>3485</th>\n",
       "      <td>wrexham-university.md</td>\n",
       "      <td>Legislation\\n\\nData Protection Act 2018 UK GDP...</td>\n",
       "      <td>13</td>\n",
       "    </tr>\n",
       "  </tbody>\n",
       "</table>\n",
       "<p>3486 rows × 3 columns</p>\n",
       "</div>"
      ]
     },
     "execution_count": 3,
     "metadata": {},
     "output_type": "execute_result"
    }
   ],
   "execution_count": 3
  },
  {
   "metadata": {
    "ExecuteTime": {
     "end_time": "2025-02-28T08:23:31.246333Z",
     "start_time": "2025-02-28T08:23:31.244636Z"
    }
   },
   "cell_type": "code",
   "source": "documents = df_documents['text'].to_list()",
   "id": "651be53c7c4c4bd5",
   "outputs": [],
   "execution_count": 4
  },
  {
   "metadata": {},
   "cell_type": "markdown",
   "source": "# Topic Modelling",
   "id": "100f40e85d1b544e"
  },
  {
   "metadata": {
    "ExecuteTime": {
     "end_time": "2025-02-28T08:23:38.524346Z",
     "start_time": "2025-02-28T08:23:31.286851Z"
    }
   },
   "cell_type": "code",
   "source": [
    "embedding_model = SentenceTransformer('thenlper/gte-small', trust_remote_code=True)\n",
    "\n",
    "embeddings = embedding_model.encode(documents)"
   ],
   "id": "7b239c9f692ae733",
   "outputs": [],
   "execution_count": 5
  },
  {
   "metadata": {},
   "cell_type": "markdown",
   "source": "Insert parameters from optimized harmonic mean",
   "id": "1361125399bddef"
  },
  {
   "metadata": {
    "ExecuteTime": {
     "end_time": "2025-02-28T08:23:38.547620Z",
     "start_time": "2025-02-28T08:23:38.545423Z"
    }
   },
   "cell_type": "code",
   "source": [
    "umap_parameters = {\n",
    "    'n_neighbors': 61,\n",
    "    'n_components': 5,\n",
    "    'min_dist': 0.4380765366409879,\n",
    "    'metric': 'cosine',\n",
    "    'random_state': 42\n",
    "}\n",
    "\n",
    "umap_model = UMAP(**umap_parameters)\n",
    "\n",
    "hdbscan_parameters = {\n",
    "    'min_cluster_size': 12,\n",
    "    'min_samples': 8,\n",
    "}\n",
    "\n",
    "hdbscan_model = HDBSCAN(**hdbscan_parameters)\n",
    "\n",
    "bertopic_parameters = {\n",
    "    'top_n_words': 25,\n",
    "    'n_gram_range': (2, 5),\n",
    "    'umap_model': umap_model,\n",
    "    'hdbscan_model': hdbscan_model\n",
    "}"
   ],
   "id": "ffc6eb36d4093a48",
   "outputs": [],
   "execution_count": 6
  },
  {
   "metadata": {
    "ExecuteTime": {
     "end_time": "2025-02-28T08:23:38.585854Z",
     "start_time": "2025-02-28T08:23:38.583624Z"
    }
   },
   "cell_type": "code",
   "source": [
    "bertopic_parameters = {\n",
    "    'top_n_words': 25,\n",
    "    'n_gram_range': (2, 4),\n",
    "    'umap_model': umap_model,\n",
    "    'hdbscan_model': hdbscan_model,\n",
    "    'verbose': True\n",
    "}"
   ],
   "id": "ec8d72f7b6ba5322",
   "outputs": [],
   "execution_count": 7
  },
  {
   "metadata": {
    "ExecuteTime": {
     "end_time": "2025-02-28T08:23:59.052238Z",
     "start_time": "2025-02-28T08:23:38.627995Z"
    }
   },
   "cell_type": "code",
   "source": [
    "topic_model = BERTopic(**bertopic_parameters)\n",
    "topics, probs = topic_model.fit_transform(documents, embeddings)"
   ],
   "id": "d9b10fd5e65b5b3f",
   "outputs": [
    {
     "name": "stderr",
     "output_type": "stream",
     "text": [
      "2025-02-28 09:23:38,631 - BERTopic - Dimensionality - Fitting the dimensionality reduction algorithm\n",
      "2025-02-28 09:23:57,484 - BERTopic - Dimensionality - Completed ✓\n",
      "2025-02-28 09:23:57,485 - BERTopic - Cluster - Start clustering the reduced embeddings\n",
      "2025-02-28 09:23:57,550 - BERTopic - Cluster - Completed ✓\n",
      "2025-02-28 09:23:57,552 - BERTopic - Representation - Extracting topics from clusters using representation models.\n",
      "2025-02-28 09:23:58,777 - BERTopic - Representation - Completed ✓\n"
     ]
    }
   ],
   "execution_count": 8
  },
  {
   "metadata": {
    "ExecuteTime": {
     "end_time": "2025-02-28T08:23:59.068306Z",
     "start_time": "2025-02-28T08:23:59.061142Z"
    }
   },
   "cell_type": "code",
   "source": "df_document_info = topic_model.get_document_info(documents)",
   "id": "bfcc252690156554",
   "outputs": [],
   "execution_count": 9
  },
  {
   "metadata": {
    "ExecuteTime": {
     "end_time": "2025-02-28T08:23:59.100251Z",
     "start_time": "2025-02-28T08:23:59.098377Z"
    }
   },
   "cell_type": "code",
   "source": "df_document_info['Document_Name'] = df_documents['name']",
   "id": "2697242f2b8be67b",
   "outputs": [],
   "execution_count": 10
  },
  {
   "metadata": {},
   "cell_type": "markdown",
   "source": "# Displaying the number of chunks per topic",
   "id": "1a20ee25b34a78d8"
  },
  {
   "metadata": {
    "ExecuteTime": {
     "end_time": "2025-02-28T08:23:59.144333Z",
     "start_time": "2025-02-28T08:23:59.142185Z"
    }
   },
   "cell_type": "code",
   "source": "topic_counts = df_document_info['Topic'].value_counts()",
   "id": "ef58a4b629efa839",
   "outputs": [],
   "execution_count": 11
  },
  {
   "metadata": {
    "ExecuteTime": {
     "end_time": "2025-02-28T08:23:59.382876Z",
     "start_time": "2025-02-28T08:23:59.187170Z"
    }
   },
   "cell_type": "code",
   "source": [
    "topic_indices = np.arange(0, len(topic_counts) - 1, 1)\n",
    "topic_counts_graph = [topic_counts[i] for i in topic_indices]\n",
    "\n",
    "fig, ax = plt.subplots(figsize=(12, 6))\n",
    "ax.bar(x=topic_indices, height=topic_counts_graph)\n",
    "ax.set_xticks(topic_indices)\n",
    "plt.savefig(f'{my_git_root}/notebooks/model_results/images/bertopic_harmonic_mean_topic_counts.svg')\n",
    "plt.show()"
   ],
   "id": "6ca6dd0d3f4fdb85",
   "outputs": [
    {
     "data": {
      "text/plain": [
       "<Figure size 1200x600 with 1 Axes>"
      ],
      "image/png": "[encoded data removed]"
     },
     "metadata": {},
     "output_type": "display_data"
    }
   ],
   "execution_count": 12
  },
  {
   "metadata": {
    "ExecuteTime": {
     "end_time": "2025-02-28T08:23:59.406471Z",
     "start_time": "2025-02-28T08:23:59.403761Z"
    }
   },
   "cell_type": "code",
   "source": "topic_counts",
   "id": "ccecda6bfec09f67",
   "outputs": [
    {
     "data": {
      "text/plain": [
       "Topic\n",
       "-1     2044\n",
       " 0      235\n",
       " 1      101\n",
       " 2       85\n",
       " 3       70\n",
       " 4       69\n",
       " 5       67\n",
       " 6       57\n",
       " 7       54\n",
       " 8       47\n",
       " 9       44\n",
       " 10      43\n",
       " 11      40\n",
       " 12      40\n",
       " 13      39\n",
       " 14      37\n",
       " 15      32\n",
       " 16      31\n",
       " 17      29\n",
       " 18      27\n",
       " 19      27\n",
       " 20      27\n",
       " 21      23\n",
       " 22      23\n",
       " 23      22\n",
       " 24      22\n",
       " 25      20\n",
       " 26      20\n",
       " 27      19\n",
       " 28      19\n",
       " 29      17\n",
       " 30      15\n",
       " 31      14\n",
       " 32      14\n",
       " 33      13\n",
       "Name: count, dtype: int64"
      ]
     },
     "execution_count": 13,
     "metadata": {},
     "output_type": "execute_result"
    }
   ],
   "execution_count": 13
  },
  {
   "metadata": {
    "ExecuteTime": {
     "end_time": "2025-02-28T08:23:59.464052Z",
     "start_time": "2025-02-28T08:23:59.461673Z"
    }
   },
   "cell_type": "code",
   "source": "np.mean(topic_counts[1:])",
   "id": "3b15eccd246a145a",
   "outputs": [
    {
     "data": {
      "text/plain": [
       "42.411764705882355"
      ]
     },
     "execution_count": 14,
     "metadata": {},
     "output_type": "execute_result"
    }
   ],
   "execution_count": 14
  },
  {
   "metadata": {
    "ExecuteTime": {
     "end_time": "2025-02-28T08:23:59.514240Z",
     "start_time": "2025-02-28T08:23:59.510906Z"
    }
   },
   "cell_type": "code",
   "source": "np.std(topic_counts[1:])",
   "id": "8e1ff3eba6a6822f",
   "outputs": [
    {
     "data": {
      "text/plain": [
       "39.67820386045335"
      ]
     },
     "execution_count": 15,
     "metadata": {},
     "output_type": "execute_result"
    }
   ],
   "execution_count": 15
  },
  {
   "metadata": {},
   "cell_type": "markdown",
   "source": "# Updating topic names to be more human-readable",
   "id": "df77ffb147806e88"
  },
  {
   "metadata": {},
   "cell_type": "markdown",
   "source": "Setting up LLM for topic interpretation",
   "id": "6dce106a6a00c1b"
  },
  {
   "metadata": {
    "ExecuteTime": {
     "end_time": "2025-02-28T08:23:59.576613Z",
     "start_time": "2025-02-28T08:23:59.574080Z"
    }
   },
   "cell_type": "code",
   "source": [
    "use_4bit = False\n",
    "use_8bit = True\n",
    "\n",
    "# Compute dtype for 4-bit base models\n",
    "bnb_4bit_compute_dtype = \"float16\"\n",
    "\n",
    "# Quantization type (fp4 or nf4)\n",
    "bnb_4bit_quant_type = \"nf4\"\n",
    "\n",
    "# Activate nested quantization for 4-bit base models (double quantization)\n",
    "use_nested_quant = False\n",
    "compute_dtype = getattr(torch, bnb_4bit_compute_dtype)\n",
    "\n",
    "bnb_config = BitsAndBytesConfig(\n",
    "    load_in_4bit=use_4bit,\n",
    "    load_in_8bit=use_8bit,\n",
    "    bnb_4bit_quant_type=bnb_4bit_quant_type,\n",
    "    bnb_4bit_compute_dtype=compute_dtype,\n",
    "    bnb_4bit_use_double_quant=use_nested_quant,\n",
    ")"
   ],
   "id": "1103bd4de7d1ad85",
   "outputs": [],
   "execution_count": 16
  },
  {
   "metadata": {
    "ExecuteTime": {
     "end_time": "2025-02-28T08:24:14.705587Z",
     "start_time": "2025-02-28T08:23:59.661595Z"
    }
   },
   "cell_type": "code",
   "source": [
    "torch.random.manual_seed(0)\n",
    "model_id = \"tiiuae/Falcon3-7B-Instruct\"\n",
    "model = AutoModelForCausalLM.from_pretrained(\n",
    "    model_id,\n",
    "    device_map=\"cuda\",\n",
    "    torch_dtype=\"auto\",\n",
    "    quantization_config=bnb_config,\n",
    "    trust_remote_code=True,\n",
    ")\n",
    "tokenizer = AutoTokenizer.from_pretrained(model_id)\n",
    "\n",
    "pipe = pipeline(\n",
    "    \"text-generation\",\n",
    "    model=model,\n",
    "    tokenizer=tokenizer,\n",
    "    max_new_tokens=50,\n",
    "    repetition_penalty=1.1\n",
    ")"
   ],
   "id": "1daa7afdbbe90196",
   "outputs": [
    {
     "data": {
      "text/plain": [
       "Loading checkpoint shards:   0%|          | 0/4 [00:00<?, ?it/s]"
      ],
      "application/vnd.jupyter.widget-view+json": {
       "version_major": 2,
       "version_minor": 0,
       "model_id": "16cdccd4d48f442fa548b2ceeb389d3a"
      }
     },
     "metadata": {},
     "output_type": "display_data"
    },
    {
     "name": "stderr",
     "output_type": "stream",
     "text": [
      "Device set to use cuda\n"
     ]
    }
   ],
   "execution_count": 17
  },
  {
   "metadata": {
    "ExecuteTime": {
     "end_time": "2025-02-28T08:24:14.760071Z",
     "start_time": "2025-02-28T08:24:14.755676Z"
    }
   },
   "cell_type": "code",
   "source": [
    "prompt = \"\"\"<|system|>You are a helpful, respectful and honest assistant for labeling topics for texts extracted from Research Data Management Policies.</s>\n",
    "<|user|>\n",
    "I have a topic that contains the following documents:\n",
    "[DOCUMENTS]\n",
    "\n",
    "The topic is described by the following keywords: '[KEYWORDS]'.\n",
    "\n",
    "Based on the information about the topic above, please create a short label of this topic. Make sure you to only return the label and nothing more.</s>\n",
    "<|assistant|>\"\"\"\n"
   ],
   "id": "1bd486fe6e467ec2",
   "outputs": [],
   "execution_count": 18
  },
  {
   "metadata": {
    "ExecuteTime": {
     "end_time": "2025-02-28T08:24:14.813128Z",
     "start_time": "2025-02-28T08:24:14.797868Z"
    }
   },
   "cell_type": "code",
   "source": [
    "# Text generation with Zephyr\n",
    "llm = TextGeneration(pipe, prompt=prompt)\n",
    "representation_model = {\"representation_LLM\": llm}"
   ],
   "id": "b27a9857aef38964",
   "outputs": [],
   "execution_count": 19
  },
  {
   "metadata": {
    "ExecuteTime": {
     "end_time": "2025-02-28T08:26:29.193608Z",
     "start_time": "2025-02-28T08:24:14.850589Z"
    }
   },
   "cell_type": "code",
   "source": "topic_model.update_topics(documents, top_n_words=1000, n_gram_range=(2, 5), representation_model=representation_model)",
   "id": "fc69ba048200b9f3",
   "outputs": [
    {
     "name": "stderr",
     "output_type": "stream",
     "text": [
      "2025-02-28 09:24:14,851 - BERTopic - WARNING: Note that extracting more than 100 words from a sparse can slow down computation quite a bit.\n",
      " 29%|██▊       | 10/35 [00:38<01:32,  3.69s/it]You seem to be using the pipelines sequentially on GPU. In order to maximize efficiency please use a dataset\n",
      "100%|██████████| 35/35 [02:11<00:00,  3.75s/it]\n"
     ]
    }
   ],
   "execution_count": 20
  },
  {
   "metadata": {
    "ExecuteTime": {
     "end_time": "2025-02-28T08:26:29.253137Z",
     "start_time": "2025-02-28T08:26:29.246590Z"
    }
   },
   "cell_type": "code",
   "source": "df_topic_info = topic_model.get_topic_info()",
   "id": "9a7913bc048620a9",
   "outputs": [],
   "execution_count": 21
  },
  {
   "metadata": {
    "ExecuteTime": {
     "end_time": "2025-02-28T08:26:29.268612Z",
     "start_time": "2025-02-28T08:26:29.266713Z"
    }
   },
   "cell_type": "code",
   "source": "topics_full = topic_model.get_topics()",
   "id": "c19ec0c2acf9519e",
   "outputs": [],
   "execution_count": 22
  },
  {
   "metadata": {},
   "cell_type": "markdown",
   "source": "Load the topic descriptors into an array",
   "id": "ded712f9e85147d7"
  },
  {
   "metadata": {
    "ExecuteTime": {
     "end_time": "2025-02-28T08:26:29.316139Z",
     "start_time": "2025-02-28T08:26:29.310770Z"
    }
   },
   "cell_type": "code",
   "source": [
    "interpretable_topic_names = {}\n",
    "\n",
    "for index, value in topics_full.items():\n",
    "    interpretable_topic_name = [topic_descriptor for topic_descriptor, probability in value]\n",
    "    interpretable_topic_names[index] = interpretable_topic_name"
   ],
   "id": "db04a6b10eeac2c5",
   "outputs": [],
   "execution_count": 23
  },
  {
   "metadata": {},
   "cell_type": "markdown",
   "source": "Remove stop-words and only show top 25 descriptors",
   "id": "611cae7e9c749f3e"
  },
  {
   "metadata": {
    "ExecuteTime": {
     "end_time": "2025-02-28T08:26:29.360328Z",
     "start_time": "2025-02-28T08:26:29.358209Z"
    }
   },
   "cell_type": "code",
   "source": [
    "def remove_stop_words(text):\n",
    "    stop_words = stopwords.words('english')\n",
    "    regex_stop_words = '|'.join(stop_words)\n",
    "    result = re.sub(rf'^((?:{regex_stop_words})\\s+)+', '', text)\n",
    "    result = re.sub(rf'(\\s+(?:{regex_stop_words}))+$', '', result)\n",
    "    return result"
   ],
   "id": "96739905575d6b98",
   "outputs": [],
   "execution_count": 24
  },
  {
   "metadata": {
    "ExecuteTime": {
     "end_time": "2025-02-28T08:26:29.404162Z",
     "start_time": "2025-02-28T08:26:29.402105Z"
    }
   },
   "cell_type": "code",
   "source": [
    "def remove_single_words(topic_descriptors):\n",
    "    result = []\n",
    "    for topic_descriptor in topic_descriptors:\n",
    "        if bool(re.search('\\s+', topic_descriptor)):\n",
    "            result.append(topic_descriptor)\n",
    "    return result"
   ],
   "id": "249a730055b0b1c5",
   "outputs": [],
   "execution_count": 25
  },
  {
   "metadata": {
    "ExecuteTime": {
     "end_time": "2025-02-28T08:26:29.448271Z",
     "start_time": "2025-02-28T08:26:29.446140Z"
    }
   },
   "cell_type": "code",
   "source": [
    "def remove_duplicate_words(topic_descriptors):\n",
    "    result = []\n",
    "\n",
    "    for topic_descriptor in topic_descriptors:\n",
    "        if topic_descriptor not in result:\n",
    "            result.append(topic_descriptor)\n",
    "    return result"
   ],
   "id": "a534df561cad1bb2",
   "outputs": [],
   "execution_count": 26
  },
  {
   "metadata": {
    "ExecuteTime": {
     "end_time": "2025-02-28T08:26:29.491862Z",
     "start_time": "2025-02-28T08:26:29.490063Z"
    }
   },
   "cell_type": "code",
   "source": [
    "def keep_top_n_topic_descriptors(topic_descriptors, n):\n",
    "    return topic_descriptors[:n]"
   ],
   "id": "6113b5babfec5a8e",
   "outputs": [],
   "execution_count": 27
  },
  {
   "metadata": {
    "ExecuteTime": {
     "end_time": "2025-02-28T08:26:31.267943Z",
     "start_time": "2025-02-28T08:26:29.534301Z"
    }
   },
   "cell_type": "code",
   "source": [
    "n = 25\n",
    "\n",
    "for index, value in interpretable_topic_names.items():\n",
    "    interpretable_topics = [remove_stop_words(topic) for topic in value]\n",
    "    interpretable_topics = remove_single_words(interpretable_topics)\n",
    "    interpretable_topics = remove_duplicate_words(interpretable_topics)\n",
    "    interpretable_topics = keep_top_n_topic_descriptors(interpretable_topics, n)\n",
    "    interpretable_topic_names[index] = interpretable_topics"
   ],
   "id": "5bc88c756565606c",
   "outputs": [],
   "execution_count": 28
  },
  {
   "metadata": {
    "ExecuteTime": {
     "end_time": "2025-02-28T08:26:31.298085Z",
     "start_time": "2025-02-28T08:26:31.296191Z"
    }
   },
   "cell_type": "code",
   "source": [
    "for key, value in interpretable_topic_names.items():\n",
    "    if key != -1:\n",
    "        assert len(value) == 25, f'Topic {key} has {len(value)} topics, rather than {n}.'"
   ],
   "id": "12820b2c00a2da6f",
   "outputs": [],
   "execution_count": 29
  },
  {
   "metadata": {
    "ExecuteTime": {
     "end_time": "2025-02-28T08:26:31.343834Z",
     "start_time": "2025-02-28T08:26:31.337507Z"
    }
   },
   "cell_type": "code",
   "source": "df_topic_info = topic_model.get_topic_info()",
   "id": "da47bae22bfcc016",
   "outputs": [],
   "execution_count": 30
  },
  {
   "metadata": {
    "ExecuteTime": {
     "end_time": "2025-02-28T08:26:31.411904Z",
     "start_time": "2025-02-28T08:26:31.388379Z"
    }
   },
   "cell_type": "code",
   "source": "df_topic_info",
   "id": "34dc140aca2ed31c",
   "outputs": [
    {
     "data": {
      "text/plain": [
       "    Topic  Count                                               Name  \\\n",
       "0      -1   2044   -1_research data_of the_data management_the data   \n",
       "1       0    235  0_data management_research data_responsible fo...   \n",
       "2       1    101  1_research data_of research_university of pots...   \n",
       "3       2     85  2_data management_data management plan_managem...   \n",
       "4       3     70  3_management policy_research data management p...   \n",
       "5       4     69  4_research data_of research_derived from_data ...   \n",
       "6       5     67  5_research data_the university_of research_thi...   \n",
       "7       6     57  6_10 years_be retained_research data_retention...   \n",
       "8       7     54         7_research data_be stored_the data_must be   \n",
       "9       8     47  8_personal data_data subject_fh joanneum_natur...   \n",
       "10      9     44  9_data repository_research data_the university...   \n",
       "11     10     43  10_applies to_policy applies_this policy_polic...   \n",
       "12     11     40  11_fair principles_research data_the fair_find...   \n",
       "13     12     40  12_approved by_review date_research data manag...   \n",
       "14     13     39  13_research data_the data_should be_metadata m...   \n",
       "15     14     37  14_rights to_intellectual property_exclusive r...   \n",
       "16     15     32  15_research data_research data management_data...   \n",
       "17     16     31  16_personal data_the university_data protectio...   \n",
       "18     17     29  17_ethical research_ethical issues_the erc_iss...   \n",
       "19     18     27  18_policy policy_policy statement_this policy_...   \n",
       "20     19     27  19_definitions definitions_of terms_definition...   \n",
       "21     20     27  20_data management_research data management_re...   \n",
       "22     21     23  21_code of_research misconduct_policies and_et...   \n",
       "23     22     23  22_data access_data access statement_access st...   \n",
       "24     23     22  23_data management_costs associated with_costs...   \n",
       "25     24     22  24_creative commons_cc by_the creative commons...   \n",
       "26     25     20  25_the research_of the_the participants_inform...   \n",
       "27     26     20  26_responsibilities responsibilities_roles and...   \n",
       "28     27     19  27_the university_who are_of the university_th...   \n",
       "29     28     19  28_disposed of_the retention_the retention per...   \n",
       "30     29     17  29_introduction introduction_introduction intr...   \n",
       "31     30     15  30_data protection_data protection impact_prot...   \n",
       "32     31     14  31_personal data_the research_data containing ...   \n",
       "33     32     14  32_digital object_object identifier_digital ob...   \n",
       "34     33     13  33_principles principles_principles principles...   \n",
       "\n",
       "                                       Representation  \\\n",
       "0   [research data, of the, data management, the d...   \n",
       "1   [data management, research data, responsible f...   \n",
       "2   [research data, of research, university of pot...   \n",
       "3   [data management, data management plan, manage...   \n",
       "4   [management policy, research data management p...   \n",
       "5   [research data, of research, derived from, dat...   \n",
       "6   [research data, the university, of research, t...   \n",
       "7   [10 years, be retained, research data, retenti...   \n",
       "8   [research data, be stored, the data, must be, ...   \n",
       "9   [personal data, data subject, fh joanneum, nat...   \n",
       "10  [data repository, research data, the universit...   \n",
       "11  [applies to, policy applies, this policy, poli...   \n",
       "12  [fair principles, research data, the fair, fin...   \n",
       "13  [approved by, review date, research data manag...   \n",
       "14  [research data, the data, should be, metadata ...   \n",
       "15  [rights to, intellectual property, exclusive r...   \n",
       "16  [research data, research data management, data...   \n",
       "17  [personal data, the university, data protectio...   \n",
       "18  [ethical research, ethical issues, the erc, is...   \n",
       "19  [policy policy, policy statement, this policy,...   \n",
       "20  [definitions definitions, of terms, definition...   \n",
       "21  [data management, research data management, re...   \n",
       "22  [code of, research misconduct, policies and, e...   \n",
       "23  [data access, data access statement, access st...   \n",
       "24  [data management, costs associated with, costs...   \n",
       "25  [creative commons, cc by, the creative commons...   \n",
       "26  [the research, of the, the participants, infor...   \n",
       "27  [responsibilities responsibilities, roles and,...   \n",
       "28  [the university, who are, of the university, t...   \n",
       "29  [disposed of, the retention, the retention per...   \n",
       "30  [introduction introduction, introduction intro...   \n",
       "31  [data protection, data protection impact, prot...   \n",
       "32  [personal data, the research, data containing ...   \n",
       "33  [digital object, object identifier, digital ob...   \n",
       "34  [principles principles, principles principles ...   \n",
       "\n",
       "                                   representation_LLM  \\\n",
       "0   [\\n\"Research Data Management Policies and Prac...   \n",
       "1   [\\n\"Research Data Management Policies: Roles, ...   \n",
       "2   [\\n\"Research Data Management Policy of the Uni...   \n",
       "3   [\\n\"Data Management Plans (DMPs): Requirements...   \n",
       "4   [\\nResearch Data Management Policies, , , , , ...   \n",
       "5   [\\n\"Definitions and Scope of Research Data Man...   \n",
       "6   [\\nResearch Data Management Policies: Promotin...   \n",
       "7   [\\n\"Research Data Retention Policies and Requi...   \n",
       "8   [\\n\"Research Data Management Policies: Storage...   \n",
       "9   [\\n\"Personal Data Definitions and Processing R...   \n",
       "10  [\\n\"Research Data Management Policies: Guideli...   \n",
       "11  [\\n\"Research Data Management Policies: Scope a...   \n",
       "12  [\\nFAIR Data and Software Management Principle...   \n",
       "13  [\\nResearch Data Management Policies, , , , , ...   \n",
       "14  [\\n\"Research Data Management: Documentation, S...   \n",
       "15  [\\n\"Intellectual Property Rights and Data Shar...   \n",
       "16  [\\nResearch Data Management (RDM): Processes a...   \n",
       "17  [\\n\"University Data Protection Policies: Subje...   \n",
       "18  [\\n\"CEU Ethical Research Policies and Procedur...   \n",
       "19  [\\n\"Research Data Management Policies: Related...   \n",
       "20  [\\n\"Definitions and Glossaries in University T...   \n",
       "21  [\\nResearch Data Management Policies and Pract...   \n",
       "22  [\\n\"Research Data Management Policies: Equalit...   \n",
       "23  [\\n\"Research Data Management Policies: Data Ac...   \n",
       "24  [\\n\"Research Data Management Costs and Funding...   \n",
       "25  [\\n\"Intellectual Property Rights, Licensing, O...   \n",
       "26  [\\nResearch Ethics: Informed Consent, Deceptio...   \n",
       "27  [\\nUniversity-Wide Roles and Responsibilities ...   \n",
       "28  [\\n\"Researchers and Research Staff Definitions...   \n",
       "29  [\\n\"Research Data Management Policies: Retenti...   \n",
       "30  [\\n\"Research Data Management Policies: Introdu...   \n",
       "31  [\\nData Protection Impact Assessments (DPIA) i...   \n",
       "32  [\\nProtecting and Managing Personal Data in Re...   \n",
       "33  [\\nPersistent Identifiers in Research Data Man...   \n",
       "34  [\\n\"General Principles and Guidelines in Resea...   \n",
       "\n",
       "                                  Representative_Docs  \n",
       "0   [4. Research Data Management  \\n\\nResearch dat...  \n",
       "1   [PhD students are responsible for:  \\n\\n: Deve...  \n",
       "2   [Research Data Policy of the University of Pot...  \n",
       "3   [1. Data Management Plan\\n\\nA data management ...  \n",
       "4   [Research Data Management Policy, RESEARCH DAT...  \n",
       "5   [Research Data  There is no single definition ...  \n",
       "6   [1. Statement of intent\\n\\n1.1 The University ...  \n",
       "7   [Research data must be retained intact in an a...  \n",
       "8   [Data archiving\\n\\nFor the purpose of verifica...  \n",
       "9   [Personal Data: Any information about an ident...  \n",
       "10  [4.8 Depositing research data\\n\\nResearchers m...  \n",
       "11  [2 Scope\\n\\n2.1 This policy applies to all mem...  \n",
       "12  [Preparation and availability of data. Researc...  \n",
       "13  [Contents\\n\\nSummary 4\\n\\nWhat is this documen...  \n",
       "14  [Documentation and use of standards. To make d...  \n",
       "15  [Exclusive rights to reuse or publish research...  \n",
       "16  [Research Data Management Guideline\\n\\nWith th...  \n",
       "17  [3. The Principles of Data Protection  \\n\\nThe...  \n",
       "18  [Review process  \\n\\n(a) For review purposes, ...  \n",
       "19  [Appendix B: relevant internal policies, codes...  \n",
       "20  [Definition of terms. 2   , Appendix A – Gloss...  \n",
       "21  [The University will provide access to trainin...  \n",
       "22  [Enforcement of this Policy and Sanctions\\n\\n7...  \n",
       "23  [Published research papers should include a sh...  \n",
       "24  [3.2. Data management costs should be recovere...  \n",
       "25  [Property (IP) (including moral rights), trade...  \n",
       "26  [5.5 Research in Public Contexts and With Grou...  \n",
       "27  [Roles and Responsibilities, 6. Roles and Resp...  \n",
       "28  [Researchers are individuals who perform resea...  \n",
       "29  [Data at the University of Suffolk are retaine...  \n",
       "30  [Preface, 17/1/11 First draft , 1 Introduction...  \n",
       "31  [Before starting a task or activity which invo...  \n",
       "32  [8.2 Pseudonymizing research data  \\n\\nResearc...  \n",
       "33  [1.6. Persistent identifiers are identifiers a...  \n",
       "34  [5.2 General Principles, 5 General Principles,...  "
      ],
      "text/html": [
       "<div>\n",
       "<style scoped>\n",
       "    .dataframe tbody tr th:only-of-type {\n",
       "        vertical-align: middle;\n",
       "    }\n",
       "\n",
       "    .dataframe tbody tr th {\n",
       "        vertical-align: top;\n",
       "    }\n",
       "\n",
       "    .dataframe thead th {\n",
       "        text-align: right;\n",
       "    }\n",
       "</style>\n",
       "<table border=\"1\" class=\"dataframe\">\n",
       "  <thead>\n",
       "    <tr style=\"text-align: right;\">\n",
       "      <th></th>\n",
       "      <th>Topic</th>\n",
       "      <th>Count</th>\n",
       "      <th>Name</th>\n",
       "      <th>Representation</th>\n",
       "      <th>representation_LLM</th>\n",
       "      <th>Representative_Docs</th>\n",
       "    </tr>\n",
       "  </thead>\n",
       "  <tbody>\n",
       "    <tr>\n",
       "      <th>0</th>\n",
       "      <td>-1</td>\n",
       "      <td>2044</td>\n",
       "      <td>-1_research data_of the_data management_the data</td>\n",
       "      <td>[research data, of the, data management, the d...</td>\n",
       "      <td>[\\n\"Research Data Management Policies and Prac...</td>\n",
       "      <td>[4. Research Data Management  \\n\\nResearch dat...</td>\n",
       "    </tr>\n",
       "    <tr>\n",
       "      <th>1</th>\n",
       "      <td>0</td>\n",
       "      <td>235</td>\n",
       "      <td>0_data management_research data_responsible fo...</td>\n",
       "      <td>[data management, research data, responsible f...</td>\n",
       "      <td>[\\n\"Research Data Management Policies: Roles, ...</td>\n",
       "      <td>[PhD students are responsible for:  \\n\\n: Deve...</td>\n",
       "    </tr>\n",
       "    <tr>\n",
       "      <th>2</th>\n",
       "      <td>1</td>\n",
       "      <td>101</td>\n",
       "      <td>1_research data_of research_university of pots...</td>\n",
       "      <td>[research data, of research, university of pot...</td>\n",
       "      <td>[\\n\"Research Data Management Policy of the Uni...</td>\n",
       "      <td>[Research Data Policy of the University of Pot...</td>\n",
       "    </tr>\n",
       "    <tr>\n",
       "      <th>3</th>\n",
       "      <td>2</td>\n",
       "      <td>85</td>\n",
       "      <td>2_data management_data management plan_managem...</td>\n",
       "      <td>[data management, data management plan, manage...</td>\n",
       "      <td>[\\n\"Data Management Plans (DMPs): Requirements...</td>\n",
       "      <td>[1. Data Management Plan\\n\\nA data management ...</td>\n",
       "    </tr>\n",
       "    <tr>\n",
       "      <th>4</th>\n",
       "      <td>3</td>\n",
       "      <td>70</td>\n",
       "      <td>3_management policy_research data management p...</td>\n",
       "      <td>[management policy, research data management p...</td>\n",
       "      <td>[\\nResearch Data Management Policies, , , , , ...</td>\n",
       "      <td>[Research Data Management Policy, RESEARCH DAT...</td>\n",
       "    </tr>\n",
       "    <tr>\n",
       "      <th>5</th>\n",
       "      <td>4</td>\n",
       "      <td>69</td>\n",
       "      <td>4_research data_of research_derived from_data ...</td>\n",
       "      <td>[research data, of research, derived from, dat...</td>\n",
       "      <td>[\\n\"Definitions and Scope of Research Data Man...</td>\n",
       "      <td>[Research Data  There is no single definition ...</td>\n",
       "    </tr>\n",
       "    <tr>\n",
       "      <th>6</th>\n",
       "      <td>5</td>\n",
       "      <td>67</td>\n",
       "      <td>5_research data_the university_of research_thi...</td>\n",
       "      <td>[research data, the university, of research, t...</td>\n",
       "      <td>[\\nResearch Data Management Policies: Promotin...</td>\n",
       "      <td>[1. Statement of intent\\n\\n1.1 The University ...</td>\n",
       "    </tr>\n",
       "    <tr>\n",
       "      <th>7</th>\n",
       "      <td>6</td>\n",
       "      <td>57</td>\n",
       "      <td>6_10 years_be retained_research data_retention...</td>\n",
       "      <td>[10 years, be retained, research data, retenti...</td>\n",
       "      <td>[\\n\"Research Data Retention Policies and Requi...</td>\n",
       "      <td>[Research data must be retained intact in an a...</td>\n",
       "    </tr>\n",
       "    <tr>\n",
       "      <th>8</th>\n",
       "      <td>7</td>\n",
       "      <td>54</td>\n",
       "      <td>7_research data_be stored_the data_must be</td>\n",
       "      <td>[research data, be stored, the data, must be, ...</td>\n",
       "      <td>[\\n\"Research Data Management Policies: Storage...</td>\n",
       "      <td>[Data archiving\\n\\nFor the purpose of verifica...</td>\n",
       "    </tr>\n",
       "    <tr>\n",
       "      <th>9</th>\n",
       "      <td>8</td>\n",
       "      <td>47</td>\n",
       "      <td>8_personal data_data subject_fh joanneum_natur...</td>\n",
       "      <td>[personal data, data subject, fh joanneum, nat...</td>\n",
       "      <td>[\\n\"Personal Data Definitions and Processing R...</td>\n",
       "      <td>[Personal Data: Any information about an ident...</td>\n",
       "    </tr>\n",
       "    <tr>\n",
       "      <th>10</th>\n",
       "      <td>9</td>\n",
       "      <td>44</td>\n",
       "      <td>9_data repository_research data_the university...</td>\n",
       "      <td>[data repository, research data, the universit...</td>\n",
       "      <td>[\\n\"Research Data Management Policies: Guideli...</td>\n",
       "      <td>[4.8 Depositing research data\\n\\nResearchers m...</td>\n",
       "    </tr>\n",
       "    <tr>\n",
       "      <th>11</th>\n",
       "      <td>10</td>\n",
       "      <td>43</td>\n",
       "      <td>10_applies to_policy applies_this policy_polic...</td>\n",
       "      <td>[applies to, policy applies, this policy, poli...</td>\n",
       "      <td>[\\n\"Research Data Management Policies: Scope a...</td>\n",
       "      <td>[2 Scope\\n\\n2.1 This policy applies to all mem...</td>\n",
       "    </tr>\n",
       "    <tr>\n",
       "      <th>12</th>\n",
       "      <td>11</td>\n",
       "      <td>40</td>\n",
       "      <td>11_fair principles_research data_the fair_find...</td>\n",
       "      <td>[fair principles, research data, the fair, fin...</td>\n",
       "      <td>[\\nFAIR Data and Software Management Principle...</td>\n",
       "      <td>[Preparation and availability of data. Researc...</td>\n",
       "    </tr>\n",
       "    <tr>\n",
       "      <th>13</th>\n",
       "      <td>12</td>\n",
       "      <td>40</td>\n",
       "      <td>12_approved by_review date_research data manag...</td>\n",
       "      <td>[approved by, review date, research data manag...</td>\n",
       "      <td>[\\nResearch Data Management Policies, , , , , ...</td>\n",
       "      <td>[Contents\\n\\nSummary 4\\n\\nWhat is this documen...</td>\n",
       "    </tr>\n",
       "    <tr>\n",
       "      <th>14</th>\n",
       "      <td>13</td>\n",
       "      <td>39</td>\n",
       "      <td>13_research data_the data_should be_metadata m...</td>\n",
       "      <td>[research data, the data, should be, metadata ...</td>\n",
       "      <td>[\\n\"Research Data Management: Documentation, S...</td>\n",
       "      <td>[Documentation and use of standards. To make d...</td>\n",
       "    </tr>\n",
       "    <tr>\n",
       "      <th>15</th>\n",
       "      <td>14</td>\n",
       "      <td>37</td>\n",
       "      <td>14_rights to_intellectual property_exclusive r...</td>\n",
       "      <td>[rights to, intellectual property, exclusive r...</td>\n",
       "      <td>[\\n\"Intellectual Property Rights and Data Shar...</td>\n",
       "      <td>[Exclusive rights to reuse or publish research...</td>\n",
       "    </tr>\n",
       "    <tr>\n",
       "      <th>16</th>\n",
       "      <td>15</td>\n",
       "      <td>32</td>\n",
       "      <td>15_research data_research data management_data...</td>\n",
       "      <td>[research data, research data management, data...</td>\n",
       "      <td>[\\nResearch Data Management (RDM): Processes a...</td>\n",
       "      <td>[Research Data Management Guideline\\n\\nWith th...</td>\n",
       "    </tr>\n",
       "    <tr>\n",
       "      <th>17</th>\n",
       "      <td>16</td>\n",
       "      <td>31</td>\n",
       "      <td>16_personal data_the university_data protectio...</td>\n",
       "      <td>[personal data, the university, data protectio...</td>\n",
       "      <td>[\\n\"University Data Protection Policies: Subje...</td>\n",
       "      <td>[3. The Principles of Data Protection  \\n\\nThe...</td>\n",
       "    </tr>\n",
       "    <tr>\n",
       "      <th>18</th>\n",
       "      <td>17</td>\n",
       "      <td>29</td>\n",
       "      <td>17_ethical research_ethical issues_the erc_iss...</td>\n",
       "      <td>[ethical research, ethical issues, the erc, is...</td>\n",
       "      <td>[\\n\"CEU Ethical Research Policies and Procedur...</td>\n",
       "      <td>[Review process  \\n\\n(a) For review purposes, ...</td>\n",
       "    </tr>\n",
       "    <tr>\n",
       "      <th>19</th>\n",
       "      <td>18</td>\n",
       "      <td>27</td>\n",
       "      <td>18_policy policy_policy statement_this policy_...</td>\n",
       "      <td>[policy policy, policy statement, this policy,...</td>\n",
       "      <td>[\\n\"Research Data Management Policies: Related...</td>\n",
       "      <td>[Appendix B: relevant internal policies, codes...</td>\n",
       "    </tr>\n",
       "    <tr>\n",
       "      <th>20</th>\n",
       "      <td>19</td>\n",
       "      <td>27</td>\n",
       "      <td>19_definitions definitions_of terms_definition...</td>\n",
       "      <td>[definitions definitions, of terms, definition...</td>\n",
       "      <td>[\\n\"Definitions and Glossaries in University T...</td>\n",
       "      <td>[Definition of terms. 2   , Appendix A – Gloss...</td>\n",
       "    </tr>\n",
       "    <tr>\n",
       "      <th>21</th>\n",
       "      <td>20</td>\n",
       "      <td>27</td>\n",
       "      <td>20_data management_research data management_re...</td>\n",
       "      <td>[data management, research data management, re...</td>\n",
       "      <td>[\\nResearch Data Management Policies and Pract...</td>\n",
       "      <td>[The University will provide access to trainin...</td>\n",
       "    </tr>\n",
       "    <tr>\n",
       "      <th>22</th>\n",
       "      <td>21</td>\n",
       "      <td>23</td>\n",
       "      <td>21_code of_research misconduct_policies and_et...</td>\n",
       "      <td>[code of, research misconduct, policies and, e...</td>\n",
       "      <td>[\\n\"Research Data Management Policies: Equalit...</td>\n",
       "      <td>[Enforcement of this Policy and Sanctions\\n\\n7...</td>\n",
       "    </tr>\n",
       "    <tr>\n",
       "      <th>23</th>\n",
       "      <td>22</td>\n",
       "      <td>23</td>\n",
       "      <td>22_data access_data access statement_access st...</td>\n",
       "      <td>[data access, data access statement, access st...</td>\n",
       "      <td>[\\n\"Research Data Management Policies: Data Ac...</td>\n",
       "      <td>[Published research papers should include a sh...</td>\n",
       "    </tr>\n",
       "    <tr>\n",
       "      <th>24</th>\n",
       "      <td>23</td>\n",
       "      <td>22</td>\n",
       "      <td>23_data management_costs associated with_costs...</td>\n",
       "      <td>[data management, costs associated with, costs...</td>\n",
       "      <td>[\\n\"Research Data Management Costs and Funding...</td>\n",
       "      <td>[3.2. Data management costs should be recovere...</td>\n",
       "    </tr>\n",
       "    <tr>\n",
       "      <th>25</th>\n",
       "      <td>24</td>\n",
       "      <td>22</td>\n",
       "      <td>24_creative commons_cc by_the creative commons...</td>\n",
       "      <td>[creative commons, cc by, the creative commons...</td>\n",
       "      <td>[\\n\"Intellectual Property Rights, Licensing, O...</td>\n",
       "      <td>[Property (IP) (including moral rights), trade...</td>\n",
       "    </tr>\n",
       "    <tr>\n",
       "      <th>26</th>\n",
       "      <td>25</td>\n",
       "      <td>20</td>\n",
       "      <td>25_the research_of the_the participants_inform...</td>\n",
       "      <td>[the research, of the, the participants, infor...</td>\n",
       "      <td>[\\nResearch Ethics: Informed Consent, Deceptio...</td>\n",
       "      <td>[5.5 Research in Public Contexts and With Grou...</td>\n",
       "    </tr>\n",
       "    <tr>\n",
       "      <th>27</th>\n",
       "      <td>26</td>\n",
       "      <td>20</td>\n",
       "      <td>26_responsibilities responsibilities_roles and...</td>\n",
       "      <td>[responsibilities responsibilities, roles and,...</td>\n",
       "      <td>[\\nUniversity-Wide Roles and Responsibilities ...</td>\n",
       "      <td>[Roles and Responsibilities, 6. Roles and Resp...</td>\n",
       "    </tr>\n",
       "    <tr>\n",
       "      <th>28</th>\n",
       "      <td>27</td>\n",
       "      <td>19</td>\n",
       "      <td>27_the university_who are_of the university_th...</td>\n",
       "      <td>[the university, who are, of the university, t...</td>\n",
       "      <td>[\\n\"Researchers and Research Staff Definitions...</td>\n",
       "      <td>[Researchers are individuals who perform resea...</td>\n",
       "    </tr>\n",
       "    <tr>\n",
       "      <th>29</th>\n",
       "      <td>28</td>\n",
       "      <td>19</td>\n",
       "      <td>28_disposed of_the retention_the retention per...</td>\n",
       "      <td>[disposed of, the retention, the retention per...</td>\n",
       "      <td>[\\n\"Research Data Management Policies: Retenti...</td>\n",
       "      <td>[Data at the University of Suffolk are retaine...</td>\n",
       "    </tr>\n",
       "    <tr>\n",
       "      <th>30</th>\n",
       "      <td>29</td>\n",
       "      <td>17</td>\n",
       "      <td>29_introduction introduction_introduction intr...</td>\n",
       "      <td>[introduction introduction, introduction intro...</td>\n",
       "      <td>[\\n\"Research Data Management Policies: Introdu...</td>\n",
       "      <td>[Preface, 17/1/11 First draft , 1 Introduction...</td>\n",
       "    </tr>\n",
       "    <tr>\n",
       "      <th>31</th>\n",
       "      <td>30</td>\n",
       "      <td>15</td>\n",
       "      <td>30_data protection_data protection impact_prot...</td>\n",
       "      <td>[data protection, data protection impact, prot...</td>\n",
       "      <td>[\\nData Protection Impact Assessments (DPIA) i...</td>\n",
       "      <td>[Before starting a task or activity which invo...</td>\n",
       "    </tr>\n",
       "    <tr>\n",
       "      <th>32</th>\n",
       "      <td>31</td>\n",
       "      <td>14</td>\n",
       "      <td>31_personal data_the research_data containing ...</td>\n",
       "      <td>[personal data, the research, data containing ...</td>\n",
       "      <td>[\\nProtecting and Managing Personal Data in Re...</td>\n",
       "      <td>[8.2 Pseudonymizing research data  \\n\\nResearc...</td>\n",
       "    </tr>\n",
       "    <tr>\n",
       "      <th>33</th>\n",
       "      <td>32</td>\n",
       "      <td>14</td>\n",
       "      <td>32_digital object_object identifier_digital ob...</td>\n",
       "      <td>[digital object, object identifier, digital ob...</td>\n",
       "      <td>[\\nPersistent Identifiers in Research Data Man...</td>\n",
       "      <td>[1.6. Persistent identifiers are identifiers a...</td>\n",
       "    </tr>\n",
       "    <tr>\n",
       "      <th>34</th>\n",
       "      <td>33</td>\n",
       "      <td>13</td>\n",
       "      <td>33_principles principles_principles principles...</td>\n",
       "      <td>[principles principles, principles principles ...</td>\n",
       "      <td>[\\n\"General Principles and Guidelines in Resea...</td>\n",
       "      <td>[5.2 General Principles, 5 General Principles,...</td>\n",
       "    </tr>\n",
       "  </tbody>\n",
       "</table>\n",
       "</div>"
      ]
     },
     "execution_count": 31,
     "metadata": {},
     "output_type": "execute_result"
    }
   ],
   "execution_count": 31
  },
  {
   "metadata": {
    "ExecuteTime": {
     "end_time": "2025-02-28T08:26:31.454770Z",
     "start_time": "2025-02-28T08:26:31.452619Z"
    }
   },
   "cell_type": "code",
   "source": [
    "# for key, value in interpretable_topic_names.items():\n",
    "#     topic_id = key\n",
    "#     ctfidf_representation = value\n",
    "#     llm_representation = df_topic_info.iloc[key + 1]['representation_LLM']\n",
    "\n",
    "#     print(f'\\\\textbf{{Topic {topic_id}}}:\\n\\n\\\\noindent\\\\textbf{{cTF-IDF representation: }}{\", \".join(ctfidf_representation)}\\n\\n\\\\noindent\\\\textbf{{LLM representation: }}{llm_representation[0]}\\\\\\\\\\n\\n\\\\noindent')"
   ],
   "id": "c3f7ad02d5c1f66f",
   "outputs": [],
   "execution_count": 32
  },
  {
   "metadata": {},
   "cell_type": "markdown",
   "source": "# Exploring the topics",
   "id": "bfe901c10f95e9a7"
  },
  {
   "metadata": {
    "ExecuteTime": {
     "end_time": "2025-02-28T08:26:31.509548Z",
     "start_time": "2025-02-28T08:26:31.499293Z"
    }
   },
   "cell_type": "code",
   "source": "df_document_info",
   "id": "fe548c3eeb1143a5",
   "outputs": [
    {
     "data": {
      "text/plain": [
       "                                               Document  Topic  \\\n",
       "0                                      Aalto University     -1   \n",
       "1      Aalto University Research Data Management Policy     -1   \n",
       "2     The research data management policy aims to ma...     -1   \n",
       "3     The data management policy shall be implemente...     -1   \n",
       "4     Ownership of copyright protected research data...     -1   \n",
       "...                                                 ...    ...   \n",
       "3481  FAIR Data\\n\\nWhere it is lawful to do so, the ...     -1   \n",
       "3482  Prifysgol Wrecsam Wrexham University\\n\\nPublic...     -1   \n",
       "3483  Reporting a Data Incident/Breach\\n\\nThe UK GDP...     -1   \n",
       "3484  Other Polices, Procedures, Legislation\\n\\nThis...     -1   \n",
       "3485  Legislation\\n\\nData Protection Act 2018 UK GDP...     -1   \n",
       "\n",
       "                                                  Name  \\\n",
       "0     -1_research data_of the_data management_the data   \n",
       "1     -1_research data_of the_data management_the data   \n",
       "2     -1_research data_of the_data management_the data   \n",
       "3     -1_research data_of the_data management_the data   \n",
       "4     -1_research data_of the_data management_the data   \n",
       "...                                                ...   \n",
       "3481  -1_research data_of the_data management_the data   \n",
       "3482  -1_research data_of the_data management_the data   \n",
       "3483  -1_research data_of the_data management_the data   \n",
       "3484  -1_research data_of the_data management_the data   \n",
       "3485  -1_research data_of the_data management_the data   \n",
       "\n",
       "                                         Representation  \\\n",
       "0     [research data, of the, data management, the d...   \n",
       "1     [research data, of the, data management, the d...   \n",
       "2     [research data, of the, data management, the d...   \n",
       "3     [research data, of the, data management, the d...   \n",
       "4     [research data, of the, data management, the d...   \n",
       "...                                                 ...   \n",
       "3481  [research data, of the, data management, the d...   \n",
       "3482  [research data, of the, data management, the d...   \n",
       "3483  [research data, of the, data management, the d...   \n",
       "3484  [research data, of the, data management, the d...   \n",
       "3485  [research data, of the, data management, the d...   \n",
       "\n",
       "                                    Representative_Docs  \\\n",
       "0     [4. Research Data Management  \\n\\nResearch dat...   \n",
       "1     [4. Research Data Management  \\n\\nResearch dat...   \n",
       "2     [4. Research Data Management  \\n\\nResearch dat...   \n",
       "3     [4. Research Data Management  \\n\\nResearch dat...   \n",
       "4     [4. Research Data Management  \\n\\nResearch dat...   \n",
       "...                                                 ...   \n",
       "3481  [4. Research Data Management  \\n\\nResearch dat...   \n",
       "3482  [4. Research Data Management  \\n\\nResearch dat...   \n",
       "3483  [4. Research Data Management  \\n\\nResearch dat...   \n",
       "3484  [4. Research Data Management  \\n\\nResearch dat...   \n",
       "3485  [4. Research Data Management  \\n\\nResearch dat...   \n",
       "\n",
       "                                            Top_n_words  Probability  \\\n",
       "0     research data - of the - data management - the...          0.0   \n",
       "1     research data - of the - data management - the...          0.0   \n",
       "2     research data - of the - data management - the...          0.0   \n",
       "3     research data - of the - data management - the...          0.0   \n",
       "4     research data - of the - data management - the...          0.0   \n",
       "...                                                 ...          ...   \n",
       "3481  research data - of the - data management - the...          0.0   \n",
       "3482  research data - of the - data management - the...          0.0   \n",
       "3483  research data - of the - data management - the...          0.0   \n",
       "3484  research data - of the - data management - the...          0.0   \n",
       "3485  research data - of the - data management - the...          0.0   \n",
       "\n",
       "      Representative_document          Document_Name  \n",
       "0                       False    aalto-university.md  \n",
       "1                       False    aalto-university.md  \n",
       "2                       False    aalto-university.md  \n",
       "3                       False    aalto-university.md  \n",
       "4                       False    aalto-university.md  \n",
       "...                       ...                    ...  \n",
       "3481                    False  wrexham-university.md  \n",
       "3482                    False  wrexham-university.md  \n",
       "3483                    False  wrexham-university.md  \n",
       "3484                    False  wrexham-university.md  \n",
       "3485                    False  wrexham-university.md  \n",
       "\n",
       "[3486 rows x 9 columns]"
      ],
      "text/html": [
       "<div>\n",
       "<style scoped>\n",
       "    .dataframe tbody tr th:only-of-type {\n",
       "        vertical-align: middle;\n",
       "    }\n",
       "\n",
       "    .dataframe tbody tr th {\n",
       "        vertical-align: top;\n",
       "    }\n",
       "\n",
       "    .dataframe thead th {\n",
       "        text-align: right;\n",
       "    }\n",
       "</style>\n",
       "<table border=\"1\" class=\"dataframe\">\n",
       "  <thead>\n",
       "    <tr style=\"text-align: right;\">\n",
       "      <th></th>\n",
       "      <th>Document</th>\n",
       "      <th>Topic</th>\n",
       "      <th>Name</th>\n",
       "      <th>Representation</th>\n",
       "      <th>Representative_Docs</th>\n",
       "      <th>Top_n_words</th>\n",
       "      <th>Probability</th>\n",
       "      <th>Representative_document</th>\n",
       "      <th>Document_Name</th>\n",
       "    </tr>\n",
       "  </thead>\n",
       "  <tbody>\n",
       "    <tr>\n",
       "      <th>0</th>\n",
       "      <td>Aalto University</td>\n",
       "      <td>-1</td>\n",
       "      <td>-1_research data_of the_data management_the data</td>\n",
       "      <td>[research data, of the, data management, the d...</td>\n",
       "      <td>[4. Research Data Management  \\n\\nResearch dat...</td>\n",
       "      <td>research data - of the - data management - the...</td>\n",
       "      <td>0.0</td>\n",
       "      <td>False</td>\n",
       "      <td>aalto-university.md</td>\n",
       "    </tr>\n",
       "    <tr>\n",
       "      <th>1</th>\n",
       "      <td>Aalto University Research Data Management Policy</td>\n",
       "      <td>-1</td>\n",
       "      <td>-1_research data_of the_data management_the data</td>\n",
       "      <td>[research data, of the, data management, the d...</td>\n",
       "      <td>[4. Research Data Management  \\n\\nResearch dat...</td>\n",
       "      <td>research data - of the - data management - the...</td>\n",
       "      <td>0.0</td>\n",
       "      <td>False</td>\n",
       "      <td>aalto-university.md</td>\n",
       "    </tr>\n",
       "    <tr>\n",
       "      <th>2</th>\n",
       "      <td>The research data management policy aims to ma...</td>\n",
       "      <td>-1</td>\n",
       "      <td>-1_research data_of the_data management_the data</td>\n",
       "      <td>[research data, of the, data management, the d...</td>\n",
       "      <td>[4. Research Data Management  \\n\\nResearch dat...</td>\n",
       "      <td>research data - of the - data management - the...</td>\n",
       "      <td>0.0</td>\n",
       "      <td>False</td>\n",
       "      <td>aalto-university.md</td>\n",
       "    </tr>\n",
       "    <tr>\n",
       "      <th>3</th>\n",
       "      <td>The data management policy shall be implemente...</td>\n",
       "      <td>-1</td>\n",
       "      <td>-1_research data_of the_data management_the data</td>\n",
       "      <td>[research data, of the, data management, the d...</td>\n",
       "      <td>[4. Research Data Management  \\n\\nResearch dat...</td>\n",
       "      <td>research data - of the - data management - the...</td>\n",
       "      <td>0.0</td>\n",
       "      <td>False</td>\n",
       "      <td>aalto-university.md</td>\n",
       "    </tr>\n",
       "    <tr>\n",
       "      <th>4</th>\n",
       "      <td>Ownership of copyright protected research data...</td>\n",
       "      <td>-1</td>\n",
       "      <td>-1_research data_of the_data management_the data</td>\n",
       "      <td>[research data, of the, data management, the d...</td>\n",
       "      <td>[4. Research Data Management  \\n\\nResearch dat...</td>\n",
       "      <td>research data - of the - data management - the...</td>\n",
       "      <td>0.0</td>\n",
       "      <td>False</td>\n",
       "      <td>aalto-university.md</td>\n",
       "    </tr>\n",
       "    <tr>\n",
       "      <th>...</th>\n",
       "      <td>...</td>\n",
       "      <td>...</td>\n",
       "      <td>...</td>\n",
       "      <td>...</td>\n",
       "      <td>...</td>\n",
       "      <td>...</td>\n",
       "      <td>...</td>\n",
       "      <td>...</td>\n",
       "      <td>...</td>\n",
       "    </tr>\n",
       "    <tr>\n",
       "      <th>3481</th>\n",
       "      <td>FAIR Data\\n\\nWhere it is lawful to do so, the ...</td>\n",
       "      <td>-1</td>\n",
       "      <td>-1_research data_of the_data management_the data</td>\n",
       "      <td>[research data, of the, data management, the d...</td>\n",
       "      <td>[4. Research Data Management  \\n\\nResearch dat...</td>\n",
       "      <td>research data - of the - data management - the...</td>\n",
       "      <td>0.0</td>\n",
       "      <td>False</td>\n",
       "      <td>wrexham-university.md</td>\n",
       "    </tr>\n",
       "    <tr>\n",
       "      <th>3482</th>\n",
       "      <td>Prifysgol Wrecsam Wrexham University\\n\\nPublic...</td>\n",
       "      <td>-1</td>\n",
       "      <td>-1_research data_of the_data management_the data</td>\n",
       "      <td>[research data, of the, data management, the d...</td>\n",
       "      <td>[4. Research Data Management  \\n\\nResearch dat...</td>\n",
       "      <td>research data - of the - data management - the...</td>\n",
       "      <td>0.0</td>\n",
       "      <td>False</td>\n",
       "      <td>wrexham-university.md</td>\n",
       "    </tr>\n",
       "    <tr>\n",
       "      <th>3483</th>\n",
       "      <td>Reporting a Data Incident/Breach\\n\\nThe UK GDP...</td>\n",
       "      <td>-1</td>\n",
       "      <td>-1_research data_of the_data management_the data</td>\n",
       "      <td>[research data, of the, data management, the d...</td>\n",
       "      <td>[4. Research Data Management  \\n\\nResearch dat...</td>\n",
       "      <td>research data - of the - data management - the...</td>\n",
       "      <td>0.0</td>\n",
       "      <td>False</td>\n",
       "      <td>wrexham-university.md</td>\n",
       "    </tr>\n",
       "    <tr>\n",
       "      <th>3484</th>\n",
       "      <td>Other Polices, Procedures, Legislation\\n\\nThis...</td>\n",
       "      <td>-1</td>\n",
       "      <td>-1_research data_of the_data management_the data</td>\n",
       "      <td>[research data, of the, data management, the d...</td>\n",
       "      <td>[4. Research Data Management  \\n\\nResearch dat...</td>\n",
       "      <td>research data - of the - data management - the...</td>\n",
       "      <td>0.0</td>\n",
       "      <td>False</td>\n",
       "      <td>wrexham-university.md</td>\n",
       "    </tr>\n",
       "    <tr>\n",
       "      <th>3485</th>\n",
       "      <td>Legislation\\n\\nData Protection Act 2018 UK GDP...</td>\n",
       "      <td>-1</td>\n",
       "      <td>-1_research data_of the_data management_the data</td>\n",
       "      <td>[research data, of the, data management, the d...</td>\n",
       "      <td>[4. Research Data Management  \\n\\nResearch dat...</td>\n",
       "      <td>research data - of the - data management - the...</td>\n",
       "      <td>0.0</td>\n",
       "      <td>False</td>\n",
       "      <td>wrexham-university.md</td>\n",
       "    </tr>\n",
       "  </tbody>\n",
       "</table>\n",
       "<p>3486 rows × 9 columns</p>\n",
       "</div>"
      ]
     },
     "execution_count": 33,
     "metadata": {},
     "output_type": "execute_result"
    }
   ],
   "execution_count": 33
  },
  {
   "metadata": {
    "ExecuteTime": {
     "end_time": "2025-02-28T08:26:31.570105Z",
     "start_time": "2025-02-28T08:26:31.567274Z"
    }
   },
   "cell_type": "code",
   "source": [
    "def get_topic_info(df_document_info, df_topic_info, topic_names):\n",
    "    for index, topic_name in topic_names.items():\n",
    "        my_df_document_info = df_document_info[df_document_info['Topic'] == index]\n",
    "        print(f'Topic: {index}\\n')\n",
    "        print(f'Representation: {\", \".join(topic_name)}\\n')\n",
    "        print(f'representation_LLM: {df_topic_info.iloc[index + 1][\"representation_LLM\"][0]}\\n')\n",
    "        print(f'Chunks:')\n",
    "        for doc in my_df_document_info['Document'].to_list():\n",
    "            print(f'\\t{doc}\\n')\n",
    "            print('_'*50)"
   ],
   "id": "1098dd9641fd2400",
   "outputs": [],
   "execution_count": 34
  },
  {
   "metadata": {},
   "cell_type": "markdown",
   "source": "Uncomment this to see how topics were represented for expert evaluation",
   "id": "a81cba375e4baf5a"
  },
  {
   "metadata": {
    "ExecuteTime": {
     "end_time": "2025-02-28T08:26:31.660922Z",
     "start_time": "2025-02-28T08:26:31.659264Z"
    }
   },
   "cell_type": "code",
   "source": "# get_topic_info(df_document_info, df_topic_info, interpretable_topic_names)",
   "id": "2e90a3c562e60858",
   "outputs": [],
   "execution_count": 35
  },
  {
   "metadata": {
    "ExecuteTime": {
     "end_time": "2025-02-28T08:26:31.707971Z",
     "start_time": "2025-02-28T08:26:31.701094Z"
    }
   },
   "cell_type": "code",
   "source": [
    "mask = df_document_info['Document_Name'] != -1\n",
    "len(df_document_info[mask]['Document_Name'].unique())"
   ],
   "id": "5a37968eede9f36a",
   "outputs": [
    {
     "data": {
      "text/plain": [
       "142"
      ]
     },
     "execution_count": 36,
     "metadata": {},
     "output_type": "execute_result"
    }
   ],
   "execution_count": 36
  },
  {
   "metadata": {},
   "cell_type": "markdown",
   "source": "# Make Knowledge Graph",
   "id": "a514beb77f1e6d8f"
  },
  {
   "metadata": {
    "ExecuteTime": {
     "end_time": "2025-02-28T08:26:31.745550Z",
     "start_time": "2025-02-28T08:26:31.741658Z"
    }
   },
   "cell_type": "code",
   "source": [
    "# Define namespaces\n",
    "PT = Namespace(\"http://policy-topics.org/\")\n",
    "SCHEMA = Namespace(\"http://schema.org/\")\n",
    "\n",
    "# Create a new graph\n",
    "graph = Graph()\n",
    "\n",
    "graph.bind(\"pt\", PT)"
   ],
   "id": "90f0d6962c9ec1ba",
   "outputs": [],
   "execution_count": 37
  },
  {
   "metadata": {},
   "cell_type": "markdown",
   "source": "Default topic embeddings are represented by the centroid of their respective topic. Instead, we will use the text embeddings of the topic descriptor.",
   "id": "facbeabc57078fdb"
  },
  {
   "metadata": {
    "ExecuteTime": {
     "end_time": "2025-02-28T08:26:32.072757Z",
     "start_time": "2025-02-28T08:26:31.826373Z"
    }
   },
   "cell_type": "code",
   "source": [
    "topic_embeddings = []\n",
    "\n",
    "for key, value in interpretable_topic_names.items():\n",
    "    topic_descriptor_joined = ', '.join(value)\n",
    "    topic_embedding = embedding_model.encode(topic_descriptor_joined)\n",
    "    topic_embeddings.append(topic_embedding)"
   ],
   "id": "ec6bb6290bcbe402",
   "outputs": [],
   "execution_count": 38
  },
  {
   "metadata": {
    "ExecuteTime": {
     "end_time": "2025-02-28T08:26:32.085533Z",
     "start_time": "2025-02-28T08:26:32.075545Z"
    }
   },
   "cell_type": "code",
   "source": [
    "# Compute pairwise cosine distances\n",
    "distance_matrix = cosine_distances(topic_embeddings)\n",
    "\n",
    "# Create a DataFrame to store closest neighbors\n",
    "closest_vectors = []\n",
    "\n",
    "for i in range(len(topic_embeddings)):\n",
    "    # Get indices of the three closest vectors (excluding itself)\n",
    "    closest_indices = np.argsort(distance_matrix[i])[1:4]  # Skip first (self)\n",
    "    closest_vectors.append(closest_indices)\n",
    "\n",
    "topic_indices = np.arange(-1, len(topic_embeddings) - 1, 1)\n",
    "\n",
    "# Convert to DataFrame\n",
    "df_topic_distances = pd.DataFrame(closest_vectors, columns=[\"Closest_1\", \"Closest_2\", \"Closest_3\"])\n",
    "df_topic_distances['topic_index'] = topic_indices"
   ],
   "id": "b87cc8b64d984b79",
   "outputs": [],
   "execution_count": 39
  },
  {
   "metadata": {
    "ExecuteTime": {
     "end_time": "2025-02-28T08:26:32.124864Z",
     "start_time": "2025-02-28T08:26:32.122830Z"
    }
   },
   "cell_type": "code",
   "source": "df_document_info['name'] = df_documents['name']",
   "id": "aa9ae1d59ce2b0dd",
   "outputs": [],
   "execution_count": 40
  },
  {
   "metadata": {
    "ExecuteTime": {
     "end_time": "2025-02-28T08:26:32.571261Z",
     "start_time": "2025-02-28T08:26:32.164405Z"
    }
   },
   "cell_type": "code",
   "source": [
    "for document_index, name in enumerate(df_document_info['name'].unique()):\n",
    "    document_uri = PT[f\"Document_{document_index}\"]\n",
    "    my_name = re.sub(r'.md', '', name)\n",
    "\n",
    "    graph.add((document_uri, RDF['type'], SCHEMA['document']))\n",
    "    graph.add((document_uri, SCHEMA['title'], Literal(my_name, datatype=XSD.string)))\n",
    "\n",
    "    df_this_document = df_document_info[df_document_info['name'] == name].reset_index()\n",
    "\n",
    "    for topic_index in df_this_document['Topic'].unique():\n",
    "        topic_uri = PT[f'Topic_{topic_index}']\n",
    "        graph.add((topic_uri, RDF['type'], SCHEMA['topic']))\n",
    "        topic_descriptors = interpretable_topic_names[topic_index]\n",
    "        topic_descriptors = ', '.join(topic_descriptors)\n",
    "        graph.add((topic_uri, PT['topic_descriptors'], Literal(topic_descriptors, datatype=XSD.string)))\n",
    "\n",
    "    for chunk_index, row in df_this_document.iterrows():\n",
    "        chunk_uri = PT[f\"Chunk_{document_index}_{chunk_index}\"]\n",
    "        graph.add((chunk_uri, RDF['type'], SCHEMA['chunk']))\n",
    "        graph.add((chunk_uri, SCHEMA['text'], Literal(row['Document'], datatype=XSD.string)))\n",
    "        graph.add((document_uri, PT['has'], chunk_uri))\n",
    "        chunk_topic_uri = PT[f'Topic_{row[\"Topic\"]}']\n",
    "        graph.add((chunk_uri, PT['describes'], chunk_topic_uri))\n",
    "\n",
    "for index, row in df_topic_distances.iterrows():\n",
    "    from_topic = PT[f'Topic_{row[\"topic_index\"]}']\n",
    "    for i in range(1, 4):\n",
    "        to_topic = PT[f'Topic_{row[f\"Closest_{i}\"]}']\n",
    "        graph.add((from_topic, PT[f'closest_{i}'], to_topic))"
   ],
   "id": "1d1eab1d3e700382",
   "outputs": [],
   "execution_count": 41
  },
  {
   "metadata": {
    "ExecuteTime": {
     "end_time": "2025-02-28T08:26:32.965940Z",
     "start_time": "2025-02-28T08:26:32.638965Z"
    }
   },
   "cell_type": "code",
   "source": "graph.serialize(destination=f'{my_git_root}/notebooks/knowledge_graph/rdm-knowledge-graph.ttl', format='turtle')",
   "id": "55efe8758dfa14e",
   "outputs": [
    {
     "data": {
      "text/plain": [
       "<Graph identifier=Nf09897f4087142bda04d965cbd57b9bb (<class 'rdflib.graph.Graph'>)>"
      ]
     },
     "execution_count": 42,
     "metadata": {},
     "output_type": "execute_result"
    }
   ],
   "execution_count": 42
  },
  {
   "metadata": {},
   "cell_type": "markdown",
   "source": "# Exporting Data for RAG",
   "id": "90630abbc13829b5"
  },
  {
   "metadata": {
    "ExecuteTime": {
     "end_time": "2025-02-28T08:26:32.970575Z",
     "start_time": "2025-02-28T08:26:32.968664Z"
    }
   },
   "cell_type": "code",
   "source": [
    "topic_embeddings_dict = {}\n",
    "\n",
    "index = -1\n",
    "\n",
    "for topic_embedding in topic_embeddings:\n",
    "    topic_embeddings_dict[index] = topic_embedding\n",
    "    index += 1"
   ],
   "id": "19edf0822b2defd7",
   "outputs": [],
   "execution_count": 43
  },
  {
   "metadata": {
    "ExecuteTime": {
     "end_time": "2025-02-28T08:26:33.014254Z",
     "start_time": "2025-02-28T08:26:33.012235Z"
    }
   },
   "cell_type": "code",
   "source": [
    "def store_file(file, file_path):\n",
    "    with open(file_path, 'wb') as f:\n",
    "        pickle.dump(file, f)"
   ],
   "id": "a666b8a4f5d65404",
   "outputs": [],
   "execution_count": 44
  },
  {
   "metadata": {
    "ExecuteTime": {
     "end_time": "2025-02-28T08:26:33.059450Z",
     "start_time": "2025-02-28T08:26:33.056417Z"
    }
   },
   "cell_type": "code",
   "source": "store_file(topic_embeddings_dict, f'{my_git_root}/notebooks/rag/rag_docs/topic_embeddings.pkl')",
   "id": "b98e1764f0e8282a",
   "outputs": [],
   "execution_count": 45
  },
  {
   "metadata": {
    "ExecuteTime": {
     "end_time": "2025-02-28T08:26:33.103079Z",
     "start_time": "2025-02-28T08:26:33.100997Z"
    }
   },
   "cell_type": "code",
   "source": "df_documents['topic'] = df_document_info['Topic']",
   "id": "6687404312172279",
   "outputs": [],
   "execution_count": 46
  },
  {
   "metadata": {
    "ExecuteTime": {
     "end_time": "2025-02-28T08:26:33.176482Z",
     "start_time": "2025-02-28T08:26:33.145489Z"
    }
   },
   "cell_type": "code",
   "source": "df_documents.to_csv(f'{my_git_root}/notebooks/rag/rag_docs//topic_documents.csv', index=False)",
   "id": "a53d8d2d39d21b79",
   "outputs": [],
   "execution_count": 47
  }
 ],
 "metadata": {
  "kernelspec": {
   "display_name": "Python 3 (ipykernel)",
   "language": "python",
   "name": "python3"
  },
  "language_info": {
   "codemirror_mode": {
    "name": "ipython",
    "version": 3
   },
   "file_extension": ".py",
   "mimetype": "text/x-python",
   "name": "python",
   "nbconvert_exporter": "python",
   "pygments_lexer": "ipython3",
   "version": "3.10.15"
  }
 },
 "nbformat": 4,
 "nbformat_minor": 5
}
