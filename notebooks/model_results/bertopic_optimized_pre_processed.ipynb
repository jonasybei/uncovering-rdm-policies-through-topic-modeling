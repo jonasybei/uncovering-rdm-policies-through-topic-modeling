{
 "cells": [
  {
   "metadata": {},
   "cell_type": "markdown",
   "source": "# Importing libraries",
   "id": "c4d0cf2a8714b2b5"
  },
  {
   "metadata": {
    "ExecuteTime": {
     "end_time": "2025-02-28T08:27:23.164793Z",
     "start_time": "2025-02-28T08:27:14.368044Z"
    }
   },
   "cell_type": "code",
   "source": [
    "import os\n",
    "import sys\n",
    "\n",
    "import matplotlib.pyplot as plt\n",
    "import numpy as np\n",
    "import pandas as pd\n",
    "import torch\n",
    "from bertopic import BERTopic\n",
    "from bertopic.representation import TextGeneration\n",
    "from git_root import git_root\n",
    "from hdbscan import HDBSCAN\n",
    "from nltk.corpus import stopwords\n",
    "from sentence_transformers import SentenceTransformer\n",
    "from transformers import AutoModelForCausalLM, AutoTokenizer, pipeline\n",
    "from transformers import BitsAndBytesConfig\n",
    "from umap import UMAP\n",
    "\n",
    "os.environ[\"PYTORCH_CUDA_ALLOC_CONF\"] = \"expandable_segments:True\"\n",
    "my_git_root = git_root()\n",
    "sys.path.append(my_git_root)\n",
    "from src import *"
   ],
   "id": "c72164f1a8fd9bac",
   "outputs": [],
   "execution_count": 1
  },
  {
   "metadata": {},
   "cell_type": "markdown",
   "source": "# Loading the data",
   "id": "42b28d3c39fbc844"
  },
  {
   "metadata": {
    "ExecuteTime": {
     "end_time": "2025-02-28T08:27:23.187820Z",
     "start_time": "2025-02-28T08:27:23.167528Z"
    }
   },
   "cell_type": "code",
   "source": [
    "df_documents_path = f'{my_git_root}/data/output/documents_chunked_structured.csv'\n",
    "df_documents = pd.read_csv(df_documents_path)"
   ],
   "id": "1f1212752fec0101",
   "outputs": [],
   "execution_count": 2
  },
  {
   "metadata": {
    "ExecuteTime": {
     "end_time": "2025-02-28T08:27:23.283477Z",
     "start_time": "2025-02-28T08:27:23.277264Z"
    }
   },
   "cell_type": "code",
   "source": "df_documents",
   "id": "3d2c28a0cf6ffd92",
   "outputs": [
    {
     "data": {
      "text/plain": [
       "                       name  \\\n",
       "0       aalto-university.md   \n",
       "1       aalto-university.md   \n",
       "2       aalto-university.md   \n",
       "3       aalto-university.md   \n",
       "4       aalto-university.md   \n",
       "...                     ...   \n",
       "3481  wrexham-university.md   \n",
       "3482  wrexham-university.md   \n",
       "3483  wrexham-university.md   \n",
       "3484  wrexham-university.md   \n",
       "3485  wrexham-university.md   \n",
       "\n",
       "                                                   text  num_tokens  \n",
       "0                                      Aalto University           3  \n",
       "1      Aalto University Research Data Management Policy           7  \n",
       "2     The research data management policy aims to ma...          89  \n",
       "3     The data management policy shall be implemente...         104  \n",
       "4     Ownership of copyright protected research data...          77  \n",
       "...                                                 ...         ...  \n",
       "3481  FAIR Data\\n\\nWhere it is lawful to do so, the ...          96  \n",
       "3482  Prifysgol Wrecsam Wrexham University\\n\\nPublic...          80  \n",
       "3483  Reporting a Data Incident/Breach\\n\\nThe UK GDP...         125  \n",
       "3484  Other Polices, Procedures, Legislation\\n\\nThis...          51  \n",
       "3485  Legislation\\n\\nData Protection Act 2018 UK GDP...          13  \n",
       "\n",
       "[3486 rows x 3 columns]"
      ],
      "text/html": [
       "<div>\n",
       "<style scoped>\n",
       "    .dataframe tbody tr th:only-of-type {\n",
       "        vertical-align: middle;\n",
       "    }\n",
       "\n",
       "    .dataframe tbody tr th {\n",
       "        vertical-align: top;\n",
       "    }\n",
       "\n",
       "    .dataframe thead th {\n",
       "        text-align: right;\n",
       "    }\n",
       "</style>\n",
       "<table border=\"1\" class=\"dataframe\">\n",
       "  <thead>\n",
       "    <tr style=\"text-align: right;\">\n",
       "      <th></th>\n",
       "      <th>name</th>\n",
       "      <th>text</th>\n",
       "      <th>num_tokens</th>\n",
       "    </tr>\n",
       "  </thead>\n",
       "  <tbody>\n",
       "    <tr>\n",
       "      <th>0</th>\n",
       "      <td>aalto-university.md</td>\n",
       "      <td>Aalto University</td>\n",
       "      <td>3</td>\n",
       "    </tr>\n",
       "    <tr>\n",
       "      <th>1</th>\n",
       "      <td>aalto-university.md</td>\n",
       "      <td>Aalto University Research Data Management Policy</td>\n",
       "      <td>7</td>\n",
       "    </tr>\n",
       "    <tr>\n",
       "      <th>2</th>\n",
       "      <td>aalto-university.md</td>\n",
       "      <td>The research data management policy aims to ma...</td>\n",
       "      <td>89</td>\n",
       "    </tr>\n",
       "    <tr>\n",
       "      <th>3</th>\n",
       "      <td>aalto-university.md</td>\n",
       "      <td>The data management policy shall be implemente...</td>\n",
       "      <td>104</td>\n",
       "    </tr>\n",
       "    <tr>\n",
       "      <th>4</th>\n",
       "      <td>aalto-university.md</td>\n",
       "      <td>Ownership of copyright protected research data...</td>\n",
       "      <td>77</td>\n",
       "    </tr>\n",
       "    <tr>\n",
       "      <th>...</th>\n",
       "      <td>...</td>\n",
       "      <td>...</td>\n",
       "      <td>...</td>\n",
       "    </tr>\n",
       "    <tr>\n",
       "      <th>3481</th>\n",
       "      <td>wrexham-university.md</td>\n",
       "      <td>FAIR Data\\n\\nWhere it is lawful to do so, the ...</td>\n",
       "      <td>96</td>\n",
       "    </tr>\n",
       "    <tr>\n",
       "      <th>3482</th>\n",
       "      <td>wrexham-university.md</td>\n",
       "      <td>Prifysgol Wrecsam Wrexham University\\n\\nPublic...</td>\n",
       "      <td>80</td>\n",
       "    </tr>\n",
       "    <tr>\n",
       "      <th>3483</th>\n",
       "      <td>wrexham-university.md</td>\n",
       "      <td>Reporting a Data Incident/Breach\\n\\nThe UK GDP...</td>\n",
       "      <td>125</td>\n",
       "    </tr>\n",
       "    <tr>\n",
       "      <th>3484</th>\n",
       "      <td>wrexham-university.md</td>\n",
       "      <td>Other Polices, Procedures, Legislation\\n\\nThis...</td>\n",
       "      <td>51</td>\n",
       "    </tr>\n",
       "    <tr>\n",
       "      <th>3485</th>\n",
       "      <td>wrexham-university.md</td>\n",
       "      <td>Legislation\\n\\nData Protection Act 2018 UK GDP...</td>\n",
       "      <td>13</td>\n",
       "    </tr>\n",
       "  </tbody>\n",
       "</table>\n",
       "<p>3486 rows × 3 columns</p>\n",
       "</div>"
      ]
     },
     "execution_count": 3,
     "metadata": {},
     "output_type": "execute_result"
    }
   ],
   "execution_count": 3
  },
  {
   "metadata": {
    "ExecuteTime": {
     "end_time": "2025-02-28T08:27:23.347333Z",
     "start_time": "2025-02-28T08:27:23.341138Z"
    }
   },
   "cell_type": "code",
   "source": [
    "documents = df_documents['text'].to_list()\n",
    "documents = [document.lower() for document in documents]"
   ],
   "id": "1398e5c430b000ea",
   "outputs": [],
   "execution_count": 4
  },
  {
   "metadata": {
    "ExecuteTime": {
     "end_time": "2025-02-28T08:27:23.384522Z",
     "start_time": "2025-02-28T08:27:23.382445Z"
    }
   },
   "cell_type": "code",
   "source": [
    "def keep_text_only(text):\n",
    "    return re.sub(r'[^A-Za-z ]', '', text)"
   ],
   "id": "1314350dee4b1eb0",
   "outputs": [],
   "execution_count": 5
  },
  {
   "metadata": {
    "ExecuteTime": {
     "end_time": "2025-02-28T08:27:23.498098Z",
     "start_time": "2025-02-28T08:27:23.476273Z"
    }
   },
   "cell_type": "code",
   "source": "documents = [keep_text_only(document) for document in documents]",
   "id": "199f01111fee3fcd",
   "outputs": [],
   "execution_count": 6
  },
  {
   "metadata": {},
   "cell_type": "markdown",
   "source": "# Topic Modelling",
   "id": "f384e8c89b5c1726"
  },
  {
   "metadata": {},
   "cell_type": "markdown",
   "source": "Initialize text embeddings",
   "id": "7d9757a87946e6d5"
  },
  {
   "metadata": {
    "ExecuteTime": {
     "end_time": "2025-02-28T08:27:30.281098Z",
     "start_time": "2025-02-28T08:27:23.567818Z"
    }
   },
   "cell_type": "code",
   "source": [
    "embedding_model = SentenceTransformer('thenlper/gte-small', trust_remote_code=True)\n",
    "\n",
    "embeddings = embedding_model.encode(documents)"
   ],
   "id": "bfae3d1f6c30f4fc",
   "outputs": [],
   "execution_count": 7
  },
  {
   "metadata": {},
   "cell_type": "markdown",
   "source": "Insert parameters from optimized harmonic mean",
   "id": "7ed2cf63f98e6970"
  },
  {
   "metadata": {
    "ExecuteTime": {
     "end_time": "2025-02-28T08:27:30.289574Z",
     "start_time": "2025-02-28T08:27:30.287307Z"
    }
   },
   "cell_type": "code",
   "source": [
    "umap_parameters = {\n",
    "    'n_neighbors': 52,\n",
    "    'n_components': 5,\n",
    "    'min_dist': 0.7654024396138743,\n",
    "    'metric': 'cosine',\n",
    "    'random_state': 42\n",
    "}\n",
    "\n",
    "umap_model = UMAP(**umap_parameters)\n",
    "\n",
    "hdbscan_parameters = {\n",
    "    'min_cluster_size': 5,\n",
    "    'min_samples': 5,\n",
    "}\n",
    "\n",
    "hdbscan_model = HDBSCAN(**hdbscan_parameters)\n",
    "\n",
    "bertopic_parameters = {\n",
    "    'top_n_words': 25,\n",
    "    'n_gram_range': (2, 5),\n",
    "    'umap_model': umap_model,\n",
    "    'hdbscan_model': hdbscan_model\n",
    "}"
   ],
   "id": "55af4d8704f772c7",
   "outputs": [],
   "execution_count": 8
  },
  {
   "metadata": {
    "ExecuteTime": {
     "end_time": "2025-02-28T08:27:30.329824Z",
     "start_time": "2025-02-28T08:27:30.327922Z"
    }
   },
   "cell_type": "code",
   "source": [
    "bertopic_parameters = {\n",
    "    'top_n_words': 25,\n",
    "    'n_gram_range': (2, 4),\n",
    "    'umap_model': umap_model,\n",
    "    'hdbscan_model': hdbscan_model,\n",
    "    'verbose': True\n",
    "}"
   ],
   "id": "3f0013093250f910",
   "outputs": [],
   "execution_count": 9
  },
  {
   "metadata": {
    "ExecuteTime": {
     "end_time": "2025-02-28T08:27:50.246992Z",
     "start_time": "2025-02-28T08:27:30.373203Z"
    }
   },
   "cell_type": "code",
   "source": [
    "topic_model = BERTopic(**bertopic_parameters)\n",
    "topics, probs = topic_model.fit_transform(documents, embeddings)"
   ],
   "id": "d3de827b28b1b8c4",
   "outputs": [
    {
     "name": "stderr",
     "output_type": "stream",
     "text": [
      "2025-02-28 09:27:30,376 - BERTopic - Dimensionality - Fitting the dimensionality reduction algorithm\n",
      "2025-02-28 09:27:48,881 - BERTopic - Dimensionality - Completed ✓\n",
      "2025-02-28 09:27:48,882 - BERTopic - Cluster - Start clustering the reduced embeddings\n",
      "2025-02-28 09:27:48,963 - BERTopic - Cluster - Completed ✓\n",
      "2025-02-28 09:27:48,965 - BERTopic - Representation - Extracting topics from clusters using representation models.\n",
      "2025-02-28 09:27:50,148 - BERTopic - Representation - Completed ✓\n"
     ]
    }
   ],
   "execution_count": 10
  },
  {
   "metadata": {
    "ExecuteTime": {
     "end_time": "2025-02-28T08:27:50.271458Z",
     "start_time": "2025-02-28T08:27:50.258773Z"
    }
   },
   "cell_type": "code",
   "source": "df_document_info = topic_model.get_document_info(documents)",
   "id": "b40c972d34052cf0",
   "outputs": [],
   "execution_count": 11
  },
  {
   "metadata": {
    "ExecuteTime": {
     "end_time": "2025-02-28T08:27:50.311005Z",
     "start_time": "2025-02-28T08:27:50.308945Z"
    }
   },
   "cell_type": "code",
   "source": "df_document_info['Document_Name'] = df_documents['name']",
   "id": "4352425e060aed2f",
   "outputs": [],
   "execution_count": 12
  },
  {
   "metadata": {},
   "cell_type": "markdown",
   "source": "# Displaying the number of chunks per topic",
   "id": "868ab0355e20dc01"
  },
  {
   "metadata": {
    "ExecuteTime": {
     "end_time": "2025-02-28T08:27:50.355939Z",
     "start_time": "2025-02-28T08:27:50.353010Z"
    }
   },
   "cell_type": "code",
   "source": [
    "topic_counts = df_document_info['Topic'].value_counts()\n",
    "topic_counts.sort_index(inplace=True)"
   ],
   "id": "b598b7af9e6c0be7",
   "outputs": [],
   "execution_count": 13
  },
  {
   "metadata": {
    "ExecuteTime": {
     "end_time": "2025-02-28T08:27:50.516601Z",
     "start_time": "2025-02-28T08:27:50.398749Z"
    }
   },
   "cell_type": "code",
   "source": [
    "topic_indices = np.arange(0, len(topic_counts) - 1, 1)\n",
    "topic_counts_graph = [topic_counts[i] for i in topic_indices]\n",
    "\n",
    "fig, ax = plt.subplots(figsize=(12, 6))\n",
    "ax.bar(x=topic_indices, height=topic_counts_graph)\n",
    "ax.set_xticks(topic_indices)\n",
    "plt.savefig(f'{my_git_root}/notebooks/model_results/images/bertopic_pre_processed_harmonic_mean_topic_counts.svg')\n",
    "plt.show()"
   ],
   "id": "292bf85fbdc18472",
   "outputs": [
    {
     "data": {
      "text/plain": [
       "<Figure size 1200x600 with 1 Axes>"
      ],
      "image/png": "[encoded data removed]"
     },
     "metadata": {},
     "output_type": "display_data"
    }
   ],
   "execution_count": 14
  },
  {
   "metadata": {},
   "cell_type": "markdown",
   "source": "How much noise is there?",
   "id": "7101af6ac767a7c"
  },
  {
   "metadata": {
    "ExecuteTime": {
     "end_time": "2025-02-28T08:27:50.538499Z",
     "start_time": "2025-02-28T08:27:50.535933Z"
    }
   },
   "cell_type": "code",
   "source": "topic_counts[-1]*100/3486",
   "id": "7cd2a657d020ff0b",
   "outputs": [
    {
     "data": {
      "text/plain": [
       "8.663224325874928"
      ]
     },
     "execution_count": 15,
     "metadata": {},
     "output_type": "execute_result"
    }
   ],
   "execution_count": 15
  },
  {
   "metadata": {},
   "cell_type": "markdown",
   "source": "How large is the outlier topic?",
   "id": "92c51df37258559b"
  },
  {
   "metadata": {
    "ExecuteTime": {
     "end_time": "2025-02-28T08:27:50.573647Z",
     "start_time": "2025-02-28T08:27:50.570679Z"
    }
   },
   "cell_type": "code",
   "source": "topic_counts[0]*100/3486",
   "id": "b92fd3113c5e0f5d",
   "outputs": [
    {
     "data": {
      "text/plain": [
       "88.0952380952381"
      ]
     },
     "execution_count": 16,
     "metadata": {},
     "output_type": "execute_result"
    }
   ],
   "execution_count": 16
  },
  {
   "metadata": {},
   "cell_type": "markdown",
   "source": "What is the mean topic size?",
   "id": "b63cc7c58a394f2a"
  },
  {
   "metadata": {
    "ExecuteTime": {
     "end_time": "2025-02-28T08:27:50.620301Z",
     "start_time": "2025-02-28T08:27:50.616884Z"
    }
   },
   "cell_type": "code",
   "source": "np.mean(topic_counts[1:])",
   "id": "6540a43537224342",
   "outputs": [
    {
     "data": {
      "text/plain": [
       "318.4"
      ]
     },
     "execution_count": 17,
     "metadata": {},
     "output_type": "execute_result"
    }
   ],
   "execution_count": 17
  },
  {
   "metadata": {},
   "cell_type": "markdown",
   "source": "What is the standard deviation of topic size?",
   "id": "dc84056cdf94d1e6"
  },
  {
   "metadata": {
    "ExecuteTime": {
     "end_time": "2025-02-28T08:27:52.424220Z",
     "start_time": "2025-02-28T08:27:52.420908Z"
    }
   },
   "cell_type": "code",
   "source": "np.std(topic_counts[1:])",
   "id": "97565063bbf04103",
   "outputs": [
    {
     "data": {
      "text/plain": [
       "917.5595021577619"
      ]
     },
     "execution_count": 18,
     "metadata": {},
     "output_type": "execute_result"
    }
   ],
   "execution_count": 18
  },
  {
   "metadata": {},
   "cell_type": "markdown",
   "source": "# Updating topic names to be more human-readable",
   "id": "859da9f59ccb79e4"
  },
  {
   "metadata": {},
   "cell_type": "markdown",
   "source": "Setting up LLM for topic interpretation",
   "id": "bb3dbef9e6b5465c"
  },
  {
   "metadata": {
    "ExecuteTime": {
     "end_time": "2025-02-28T08:27:52.478656Z",
     "start_time": "2025-02-28T08:27:52.476087Z"
    }
   },
   "cell_type": "code",
   "source": [
    "use_4bit = False\n",
    "use_8bit = True\n",
    "\n",
    "# Compute dtype for 4-bit base models\n",
    "bnb_4bit_compute_dtype = \"float16\"\n",
    "\n",
    "# Quantization type (fp4 or nf4)\n",
    "bnb_4bit_quant_type = \"nf4\"\n",
    "\n",
    "# Activate nested quantization for 4-bit base models (double quantization)\n",
    "use_nested_quant = False\n",
    "compute_dtype = getattr(torch, bnb_4bit_compute_dtype)\n",
    "\n",
    "bnb_config = BitsAndBytesConfig(\n",
    "    load_in_4bit=use_4bit,\n",
    "    load_in_8bit=use_8bit,\n",
    "    bnb_4bit_quant_type=bnb_4bit_quant_type,\n",
    "    bnb_4bit_compute_dtype=compute_dtype,\n",
    "    bnb_4bit_use_double_quant=use_nested_quant,\n",
    ")"
   ],
   "id": "a1ea52fad10b4761",
   "outputs": [],
   "execution_count": 19
  },
  {
   "metadata": {
    "ExecuteTime": {
     "end_time": "2025-02-28T08:28:07.876993Z",
     "start_time": "2025-02-28T08:27:52.552251Z"
    }
   },
   "cell_type": "code",
   "source": [
    "torch.random.manual_seed(0)\n",
    "model_id = \"tiiuae/Falcon3-7B-Instruct\"\n",
    "model = AutoModelForCausalLM.from_pretrained(\n",
    "    model_id,\n",
    "    device_map=\"cuda\",\n",
    "    torch_dtype=\"auto\",\n",
    "    quantization_config=bnb_config,\n",
    "    trust_remote_code=True,\n",
    ")\n",
    "tokenizer = AutoTokenizer.from_pretrained(model_id)\n",
    "\n",
    "pipe = pipeline(\n",
    "    \"text-generation\",\n",
    "    model=model,\n",
    "    tokenizer=tokenizer,\n",
    "    max_new_tokens=50,\n",
    "    repetition_penalty=1.1\n",
    ")"
   ],
   "id": "8461c13736f93221",
   "outputs": [
    {
     "data": {
      "text/plain": [
       "Loading checkpoint shards:   0%|          | 0/4 [00:00<?, ?it/s]"
      ],
      "application/vnd.jupyter.widget-view+json": {
       "version_major": 2,
       "version_minor": 0,
       "model_id": "06ab061c98a84a50a9d63518a3e1ecf1"
      }
     },
     "metadata": {},
     "output_type": "display_data"
    },
    {
     "name": "stderr",
     "output_type": "stream",
     "text": [
      "Device set to use cuda\n"
     ]
    }
   ],
   "execution_count": 20
  },
  {
   "metadata": {
    "ExecuteTime": {
     "end_time": "2025-02-28T08:28:07.888955Z",
     "start_time": "2025-02-28T08:28:07.884604Z"
    }
   },
   "cell_type": "code",
   "source": [
    "prompt = \"\"\"<|system|>You are a helpful, respectful and honest assistant for labeling topics for texts extracted from Research Data Management Policies.</s>\n",
    "<|user|>\n",
    "I have a topic that contains the following documents:\n",
    "[DOCUMENTS]\n",
    "\n",
    "The topic is described by the following keywords: '[KEYWORDS]'.\n",
    "\n",
    "Based on the information about the topic above, please create a short label of this topic. Make sure you to only return the label and nothing more.</s>\n",
    "<|assistant|>\"\"\"\n"
   ],
   "id": "1d5f21d6b95f62cc",
   "outputs": [],
   "execution_count": 21
  },
  {
   "metadata": {
    "ExecuteTime": {
     "end_time": "2025-02-28T08:28:07.960456Z",
     "start_time": "2025-02-28T08:28:07.937381Z"
    }
   },
   "cell_type": "code",
   "source": [
    "# Text generation with Zephyr\n",
    "llm = TextGeneration(pipe, prompt=prompt)\n",
    "representation_model = {\"representation_LLM\": llm}"
   ],
   "id": "2a0209ea7eb0658c",
   "outputs": [],
   "execution_count": 22
  },
  {
   "metadata": {
    "ExecuteTime": {
     "end_time": "2025-02-28T08:28:41.766212Z",
     "start_time": "2025-02-28T08:28:07.985557Z"
    }
   },
   "cell_type": "code",
   "source": "topic_model.update_topics(documents, top_n_words=1500, n_gram_range=(2, 5), representation_model=representation_model)",
   "id": "b6195230f6dd8041",
   "outputs": [
    {
     "name": "stderr",
     "output_type": "stream",
     "text": [
      "2025-02-28 09:28:07,986 - BERTopic - WARNING: Note that extracting more than 100 words from a sparse can slow down computation quite a bit.\n",
      " 91%|█████████ | 10/11 [00:29<00:02,  2.64s/it]You seem to be using the pipelines sequentially on GPU. In order to maximize efficiency please use a dataset\n",
      "100%|██████████| 11/11 [00:31<00:00,  2.83s/it]\n"
     ]
    }
   ],
   "execution_count": 23
  },
  {
   "metadata": {
    "ExecuteTime": {
     "end_time": "2025-02-28T08:28:41.796872Z",
     "start_time": "2025-02-28T08:28:41.795276Z"
    }
   },
   "cell_type": "code",
   "source": "topics_full = topic_model.get_topics()",
   "id": "ed7c114ea884d24e",
   "outputs": [],
   "execution_count": 24
  },
  {
   "metadata": {},
   "cell_type": "markdown",
   "source": "Load the topic descriptors into an array",
   "id": "aba4c7a6b84baf3f"
  },
  {
   "metadata": {
    "ExecuteTime": {
     "end_time": "2025-02-28T08:28:41.839541Z",
     "start_time": "2025-02-28T08:28:41.836912Z"
    }
   },
   "cell_type": "code",
   "source": [
    "interpretable_topic_names = {}\n",
    "\n",
    "for index, value in topics_full.items():\n",
    "    interpretable_topic_name = [topic_descriptor for topic_descriptor, probability in value]\n",
    "    interpretable_topic_names[index] = interpretable_topic_name"
   ],
   "id": "d183fcb5e4a30054",
   "outputs": [],
   "execution_count": 25
  },
  {
   "metadata": {},
   "cell_type": "markdown",
   "source": "Remove stop-words and only show top 25 descriptors",
   "id": "24a1d2f099c08600"
  },
  {
   "metadata": {
    "ExecuteTime": {
     "end_time": "2025-02-28T08:28:41.884826Z",
     "start_time": "2025-02-28T08:28:41.882264Z"
    }
   },
   "cell_type": "code",
   "source": [
    "def remove_stop_words(text):\n",
    "    stop_words = stopwords.words('english')\n",
    "    regex_stop_words = '|'.join(stop_words)\n",
    "    result = re.sub(rf'^((?:{regex_stop_words})\\s+)+', '', text)\n",
    "    result = re.sub(rf'(\\s+(?:{regex_stop_words}))+$', '', result)\n",
    "    return result"
   ],
   "id": "d2526b00889e8013",
   "outputs": [],
   "execution_count": 26
  },
  {
   "metadata": {
    "ExecuteTime": {
     "end_time": "2025-02-28T08:28:41.929471Z",
     "start_time": "2025-02-28T08:28:41.927382Z"
    }
   },
   "cell_type": "code",
   "source": [
    "def remove_single_words(topic_descriptors):\n",
    "    result = []\n",
    "    for topic_descriptor in topic_descriptors:\n",
    "        if bool(re.search('\\s+', topic_descriptor)):\n",
    "            result.append(topic_descriptor)\n",
    "    return result"
   ],
   "id": "aaac2205fe0935a1",
   "outputs": [],
   "execution_count": 27
  },
  {
   "metadata": {
    "ExecuteTime": {
     "end_time": "2025-02-28T08:28:41.974189Z",
     "start_time": "2025-02-28T08:28:41.972240Z"
    }
   },
   "cell_type": "code",
   "source": [
    "def remove_duplicate_words(topic_descriptors):\n",
    "    result = []\n",
    "\n",
    "    for topic_descriptor in topic_descriptors:\n",
    "        if topic_descriptor not in result:\n",
    "            result.append(topic_descriptor)\n",
    "    return result"
   ],
   "id": "d9c7359ea1c5fc9d",
   "outputs": [],
   "execution_count": 28
  },
  {
   "metadata": {
    "ExecuteTime": {
     "end_time": "2025-02-28T08:28:42.017973Z",
     "start_time": "2025-02-28T08:28:42.016100Z"
    }
   },
   "cell_type": "code",
   "source": [
    "def keep_top_n_topic_descriptors(topic_descriptors, n):\n",
    "    return topic_descriptors[:n]"
   ],
   "id": "6e4193c2b44fcd97",
   "outputs": [],
   "execution_count": 29
  },
  {
   "metadata": {
    "ExecuteTime": {
     "end_time": "2025-02-28T08:28:42.845185Z",
     "start_time": "2025-02-28T08:28:42.059997Z"
    }
   },
   "cell_type": "code",
   "source": [
    "n = 10\n",
    "\n",
    "for index, value in interpretable_topic_names.items():\n",
    "    interpretable_topics = [remove_stop_words(topic) for topic in value]\n",
    "    interpretable_topics = remove_single_words(interpretable_topics)\n",
    "    interpretable_topics = remove_duplicate_words(interpretable_topics)\n",
    "    interpretable_topics = keep_top_n_topic_descriptors(interpretable_topics, n)\n",
    "    interpretable_topic_names[index] = interpretable_topics"
   ],
   "id": "8f23564be42fb468",
   "outputs": [],
   "execution_count": 30
  },
  {
   "metadata": {
    "ExecuteTime": {
     "end_time": "2025-02-28T08:28:42.881539Z",
     "start_time": "2025-02-28T08:28:42.879213Z"
    }
   },
   "cell_type": "code",
   "source": [
    "def get_topic_info(df_document_info, df_topic_info, topic_names):\n",
    "    for index, topic_name in topic_names.items():\n",
    "        my_df_document_info = df_document_info[df_document_info['Topic'] == index]\n",
    "        print(f'Topic: {index}\\n')\n",
    "        print(f'Representation: {\", \".join(topic_name)}\\n')\n",
    "        print(f'representation_LLM: {df_topic_info.iloc[index + 1][\"representation_LLM\"][0]}\\n')\n",
    "        print(f'Chunks:')\n",
    "        for doc in my_df_document_info['Document'].to_list():\n",
    "            print(f'\\t{doc}\\n')\n",
    "            print('_'*50)"
   ],
   "id": "d9e8d157f3afea17",
   "outputs": [],
   "execution_count": 31
  },
  {
   "metadata": {
    "ExecuteTime": {
     "end_time": "2025-02-28T08:28:42.927414Z",
     "start_time": "2025-02-28T08:28:42.921338Z"
    }
   },
   "cell_type": "code",
   "source": "df_topic_info = topic_model.get_topic_info()",
   "id": "39a9d048c153b858",
   "outputs": [],
   "execution_count": 32
  },
  {
   "metadata": {},
   "cell_type": "markdown",
   "source": "Uncomment this to see the topics and chunks",
   "id": "d2f9cc473902e778"
  },
  {
   "metadata": {
    "ExecuteTime": {
     "end_time": "2025-02-28T08:28:42.972492Z",
     "start_time": "2025-02-28T08:28:42.970603Z"
    }
   },
   "cell_type": "code",
   "source": "# get_topic_info(df_document_info, df_topic_info, interpretable_topic_names)",
   "id": "397c5334b056c7ff",
   "outputs": [],
   "execution_count": 33
  },
  {
   "metadata": {
    "ExecuteTime": {
     "end_time": "2025-02-28T08:28:43.016066Z",
     "start_time": "2025-02-28T08:28:43.014292Z"
    }
   },
   "cell_type": "code",
   "source": [
    "# for key, value in interpretable_topic_names.items():\n",
    "#     topic_id = key\n",
    "#     ctfidf_representation = value\n",
    "#     llm_representation = df_topic_info.iloc[key + 1]['representation_LLM']\n",
    "\n",
    "#     print(f'\\\\textbf{{Topic {topic_id}}}:\\n\\n\\\\noindent\\\\textbf{{cTF-IDF representation: }}{\", \".join(ctfidf_representation)}\\n\\n\\\\noindent\\\\textbf{{LLM representation: }}{llm_representation[0]}\\\\\\\\\\n\\n\\\\noindent')"
   ],
   "id": "7f26528450ff23e4",
   "outputs": [],
   "execution_count": 34
  }
 ],
 "metadata": {
  "kernelspec": {
   "display_name": "Python 3",
   "language": "python",
   "name": "python3"
  },
  "language_info": {
   "codemirror_mode": {
    "name": "ipython",
    "version": 2
   },
   "file_extension": ".py",
   "mimetype": "text/x-python",
   "name": "python",
   "nbconvert_exporter": "python",
   "pygments_lexer": "ipython2",
   "version": "2.7.6"
  }
 },
 "nbformat": 4,
 "nbformat_minor": 5
}
